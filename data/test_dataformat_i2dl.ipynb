{
 "cells": [
  {
   "cell_type": "code",
   "execution_count": 32,
   "metadata": {},
   "outputs": [],
   "source": [
    "from dataset import *\n",
    "from dataloader import *\n",
    "from transforms import *\n",
    "import os\n",
    "import numpy as np"
   ]
  },
  {
   "cell_type": "code",
   "execution_count": 33,
   "metadata": {},
   "outputs": [
    {
     "name": "stdout",
     "output_type": "stream",
     "text": [
      "Directory of currently used dataset is: /home/pelzerja/Development/simulation_groundtruth_pflotran/Phd_simulation_groundtruth/approach2_dataset_generation_simplified/dataset_HDF5_testtest\n",
      "Directory of currently used dataset is: /home/pelzerja/Development/simulation_groundtruth_pflotran/Phd_simulation_groundtruth/approach2_dataset_generation_simplified/dataset_HDF5_testtest\n",
      "Directory of currently used dataset is: /home/pelzerja/Development/simulation_groundtruth_pflotran/Phd_simulation_groundtruth/approach2_dataset_generation_simplified/dataset_HDF5_testtest\n"
     ]
    }
   ],
   "source": [
    "transform_rescale = RescaleTransform(out_range=(-1,1))\n",
    "transform_normalize = NormalizeTransform()\n",
    "dataset_rescale = GWF_HP_Dataset(dataset_name =\"dataset_HDF5_testtest\", transform = transform_rescale)\n",
    "dataset_norm = GWF_HP_Dataset(dataset_name =\"dataset_HDF5_testtest\", transform = transform_normalize)\n",
    "dataset_both = GWF_HP_Dataset(dataset_name =\"dataset_HDF5_testtest\", transform = ComposeTransform([transform_rescale, transform_normalize]))"
   ]
  },
  {
   "cell_type": "code",
   "execution_count": 34,
   "metadata": {},
   "outputs": [
    {
     "name": "stdout",
     "output_type": "stream",
     "text": [
      "dataset: rescale, min: -1.0, max: 1.0, mean: -0.03922418265996436, std: 0.23458363254773776\n",
      "dataset: norm, min: -4.095664334742186, max: 4.4300796750961835, mean: 0.0, std: 1.0\n",
      "dataset: both, min: -4.095664334742185, max: 4.430079675096183, mean: 1.8947806286936004e-17, std: 0.9999999999999999\n"
     ]
    }
   ],
   "source": [
    "data_0_rescale = dataset_rescale[0]\n",
    "data_0_norm = dataset_norm[0]\n",
    "data_0_both = dataset_both[0]\n",
    "\n",
    "print(f\"dataset: rescale, min: {np.min(data_0_rescale['x'][0])}, max: {np.max(data_0_rescale['x'][0])}, mean: {np.mean(data_0_rescale['x'][0])}, std: {np.std(data_0_rescale['x'][0])}\")\n",
    "print(f\"dataset: norm, min: {np.min(data_0_norm['x'][0])}, max: {np.max(data_0_norm['x'][0])}, mean: {np.mean(data_0_norm['x'][0])}, std: {np.std(data_0_norm['x'][0])}\")\n",
    "print(f\"dataset: both, min: {np.min(data_0_both['x'][0])}, max: {np.max(data_0_both['x'][0])}, mean: {np.mean(data_0_both['x'][0])}, std: {np.std(data_0_both['x'][0])}\")"
   ]
  },
  {
   "cell_type": "code",
   "execution_count": 35,
   "metadata": {},
   "outputs": [
    {
     "name": "stdout",
     "output_type": "stream",
     "text": [
      "(6, 20, 150, 16)\n",
      "(2, 20, 150, 16)\n",
      "195.95672992142943\n",
      "['Liquid X-Velocity [m_per_y]', 'Liquid Y-Velocity [m_per_y]', 'Liquid Z-Velocity [m_per_y]', 'Liquid_Pressure [Pa]', 'Material_ID', 'Temperature [C]']\n",
      "['Liquid_Pressure [Pa]', 'Temperature [C]']\n"
     ]
    }
   ],
   "source": [
    "temp = dataset[0]\n",
    "#print(temp.keys())\n",
    "#print(temp[\"run_id\"])\n",
    "#print(f\"input properties: {temp['x'].keys()}\")\n",
    "#print(f\"output properties: {temp['y'].keys()}\")\n",
    "print(temp['x'].shape)\n",
    "print(temp['y'].shape)\n",
    "print(np.max(temp['x']))\n",
    "\n",
    "print(dataset.get_input_properties())\n",
    "print(dataset.get_output_properties())"
   ]
  },
  {
   "cell_type": "code",
   "execution_count": 40,
   "metadata": {},
   "outputs": [
    {
     "name": "stdout",
     "output_type": "stream",
     "text": [
      "Dataloader size: 3\n"
     ]
    }
   ],
   "source": [
    "dataloader = DataLoader(dataset, batch_size=2\n",
    ", shuffle=True)\n",
    "print('Dataloader size:', len(dataloader))\n"
   ]
  },
  {
   "cell_type": "code",
   "execution_count": 43,
   "metadata": {},
   "outputs": [
    {
     "name": "stdout",
     "output_type": "stream",
     "text": [
      "Batch 0 x shape: (2, 6, 20, 150, 16)\n",
      "Batch 1 x shape: (2, 6, 20, 150, 16)\n",
      "Batch 2 x shape: (1, 6, 20, 150, 16)\n"
     ]
    }
   ],
   "source": [
    "# how many batches should be printed\n",
    "num_batches = 3\n",
    "\n",
    "for i, item in enumerate(dataloader):\n",
    "    x_batch = item['x']\n",
    "    print('Batch {} x shape: {}'.format(i, x_batch.shape))\n",
    "    \n",
    "    if i >= num_batches-1:\n",
    "        break"
   ]
  },
  {
   "cell_type": "code",
   "execution_count": null,
   "metadata": {},
   "outputs": [],
   "source": []
  }
 ],
 "metadata": {
  "kernelspec": {
   "display_name": "Python 3.8.10 64-bit",
   "language": "python",
   "name": "python3"
  },
  "language_info": {
   "codemirror_mode": {
    "name": "ipython",
    "version": 3
   },
   "file_extension": ".py",
   "mimetype": "text/x-python",
   "name": "python",
   "nbconvert_exporter": "python",
   "pygments_lexer": "ipython3",
   "version": "3.8.10"
  },
  "orig_nbformat": 4,
  "vscode": {
   "interpreter": {
    "hash": "916dbcbb3f70747c44a77c7bcd40155683ae19c65e1c03b4aa3499c5328201f1"
   }
  }
 },
 "nbformat": 4,
 "nbformat_minor": 2
}
