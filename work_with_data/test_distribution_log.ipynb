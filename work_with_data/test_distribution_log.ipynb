{
 "cells": [
  {
   "cell_type": "code",
   "execution_count": 1,
   "metadata": {},
   "outputs": [],
   "source": [
    "import numpy as np\n",
    "import matplotlib.pyplot as plt"
   ]
  },
  {
   "cell_type": "markdown",
   "metadata": {},
   "source": [
    "**Test distribution for pressure gradient**"
   ]
  },
  {
   "cell_type": "code",
   "execution_count": 2,
   "metadata": {},
   "outputs": [],
   "source": [
    "\n",
    "# samples = np.random.lognormal(np.log(0.0003), 1, 100000)\n",
    "# print(f\"mean {np.mean(samples)}, var {np.var(samples)}, max {np.max(samples)}, min {np.min(samples)}\")\n",
    "# log_bins = np.logspace(-6, -1, 100) #-10**-1\n",
    "# count, bins, ignored = plt.hist(samples, bins=log_bins)\n",
    "# print(np.sum(count))\n",
    "# print(count)\n",
    "# print(bins)\n",
    "# plt.xscale('log') #'symlog'\n",
    "# plt.grid()\n",
    "# plt.show()\n"
   ]
  },
  {
   "cell_type": "code",
   "execution_count": 3,
   "metadata": {},
   "outputs": [
    {
     "name": "stdout",
     "output_type": "stream",
     "text": [
      "mean -0.00027634225920048215, var 1.9869143983444857e-07, max 0.0024699120305154915, min -0.000745323516695961\n",
      "100.0\n",
      "[ 0.  0.  0.  0.  0.  0.  0.  0.  0.  0.  0.  0.  0.  0.  0.  0.  0.  0.\n",
      "  0.  0.  0.  0.  0.  0.  0.  0.  0.  0.  0.  0.  0.  0.  0.  0.  0.  0.\n",
      "  0.  0.  0.  0.  0.  0.  0.  0.  0.  0.  0.  0.  0.  0.  0.  0.  0.  0.\n",
      "  0.  0.  0.  0.  0.  0.  0.  0.  0.  0.  0.  0.  0.  0.  0.  0.  0.  0.\n",
      "  0.  0.  0.  0.  0.  0.  0.  0.  0.  0.  0.  0.  0.  0.  0. 13. 14. 25.\n",
      " 24. 14. 10.  0.  0.  0.  0.  0.  0.]\n",
      "0.0009432823472428136 -0.006\n"
     ]
    },
    {
     "data": {
      "image/png": "[encoded data removed]",
      "text/plain": [
       "<Figure size 432x288 with 1 Axes>"
      ]
     },
     "metadata": {
      "needs_background": "light"
     },
     "output_type": "display_data"
    },
    {
     "name": "stdout",
     "output_type": "stream",
     "text": [
      "[-7.45323517e-04 -7.44806877e-04 -7.43616389e-04 -7.39370305e-04\n",
      " -7.38440465e-04 -7.26672850e-04 -7.26298596e-04 -7.26206421e-04\n",
      " -7.23322199e-04 -7.12382918e-04 -7.10010987e-04 -7.09678523e-04\n",
      " -6.94139040e-04 -6.79249962e-04 -6.77169028e-04 -6.48972127e-04\n",
      " -6.46273942e-04 -6.41606940e-04 -6.35139674e-04 -6.28362275e-04\n",
      " -6.21227579e-04 -6.17691890e-04 -6.16533476e-04 -6.03113098e-04\n",
      " -6.03015147e-04 -5.86336138e-04 -5.85651780e-04 -5.52575804e-04\n",
      " -5.41016129e-04 -5.35934519e-04 -5.33337705e-04 -5.28805027e-04\n",
      " -5.24564678e-04 -5.21045754e-04 -5.20433925e-04 -5.18456022e-04\n",
      " -5.17849420e-04 -5.16513416e-04 -5.06532935e-04 -4.93267118e-04\n",
      " -4.89597155e-04 -4.88812857e-04 -4.85742823e-04 -4.78909048e-04\n",
      " -4.56765165e-04 -4.54254094e-04 -4.53219768e-04 -4.52924805e-04\n",
      " -4.47771871e-04 -4.32189999e-04 -4.21573347e-04 -4.21123150e-04\n",
      " -4.17334551e-04 -4.12874377e-04 -4.11041372e-04 -4.07723429e-04\n",
      " -4.06357418e-04 -3.99244678e-04 -3.98141057e-04 -3.93657446e-04\n",
      " -3.88181692e-04 -3.67662582e-04 -3.64865229e-04 -3.63700139e-04\n",
      " -3.59428873e-04 -3.58248293e-04 -3.54343614e-04 -3.51840966e-04\n",
      " -3.51562181e-04 -3.46919992e-04 -3.40787610e-04 -3.21635331e-04\n",
      " -3.07168739e-04 -2.97400314e-04 -2.89775063e-04 -2.85238538e-04\n",
      " -2.78572398e-04 -2.72349437e-04 -2.65379890e-04 -2.62753468e-04\n",
      " -2.54973912e-04 -2.54514190e-04 -2.51851624e-04 -2.42140459e-04\n",
      " -2.18012586e-04 -2.10331364e-04 -1.94497103e-04 -1.90356655e-04\n",
      " -1.89272411e-04 -1.85236128e-04 -1.32009451e-04 -8.76674984e-05\n",
      " -7.86694298e-05 -5.79579080e-05 -3.36740233e-05 -1.10869561e-05\n",
      " -7.91026322e-06 -7.72771037e-06 -6.71771615e-06 -6.21106521e-06]\n"
     ]
    }
   ],
   "source": [
    "samples_clean = []\n",
    "while not len(samples_clean) == 100:\n",
    "    samples = np.random.lognormal(np.log(0.0004), 0.8, 120)\n",
    "    samples = samples - 2* 0.0004 \n",
    "    \n",
    "    samples_clean = np.sort(samples)\n",
    "    def negative(x):\n",
    "        return x < 0\n",
    "    number_negative_values = sum(negative(value) for value in samples_clean)\n",
    "    samples_clean = samples_clean[:number_negative_values]\n",
    "\n",
    "log_bins = np.logspace(-3, -2.1, 100) - 7*10**-3\n",
    "count, bins, ignored = plt.hist(samples_clean, bins=log_bins)\n",
    "print(f\"mean {np.mean(samples)}, var {np.var(samples)}, max {np.max(samples)}, min {np.min(samples)}\")\n",
    "print(sum(count))\n",
    "print(count)\n",
    "print(np.max(bins), np.min(bins))\n",
    "plt.xscale('symlog')\n",
    "plt.grid()\n",
    "plt.show()\n",
    "\n",
    "print(samples_clean)"
   ]
  },
  {
   "cell_type": "code",
   "execution_count": 9,
   "metadata": {},
   "outputs": [
    {
     "name": "stdout",
     "output_type": "stream",
     "text": [
      "[-0.99       -0.64793322 -0.42287613 -0.27480359 -0.17738174 -0.11328467\n",
      " -0.07111308 -0.04336699 -0.02511192 -0.0131013  -0.00519911  0.\n",
      "  0.00519911  0.0131013   0.02511192  0.04336699  0.07111308  0.11328467\n",
      "  0.17738174  0.27480359  0.42287613  0.64793322  0.99      ]\n"
     ]
    },
    {
     "data": {
      "image/png": "[encoded data removed]",
      "text/plain": [
       "<Figure size 432x288 with 1 Axes>"
      ]
     },
     "metadata": {
      "needs_background": "light"
     },
     "output_type": "display_data"
    }
   ],
   "source": [
    "number_samples = 25\n",
    "half_number = int(np.round(number_samples/2,0))\n",
    "samples_right = np.array(np.logspace(-2, 0, half_number)) -10**-2\n",
    "samples_left = samples_right * -1\n",
    "samples_left = samples_left[1:]\n",
    "samples = np.append(samples_left, samples_right)\n",
    "samples = np.sort(samples)\n",
    "\n",
    "def printing(data):\n",
    "    print(data)\n",
    "    x = [1 for i in range(len(data))]\n",
    "    #plt.xscale('log')\n",
    "    #plt.xlim((-0.001,-0.00001))\n",
    "    plt.plot(data, x, \"*\")\n",
    "\n",
    "printing(samples)"
   ]
  },
  {
   "cell_type": "code",
   "execution_count": 5,
   "metadata": {},
   "outputs": [
    {
     "name": "stdout",
     "output_type": "stream",
     "text": [
      "[3.16227766e-06 4.21696503e-06 5.62341325e-06 7.49894209e-06\n",
      " 1.00000000e-05 1.33352143e-05 1.77827941e-05 2.37137371e-05\n",
      " 3.16227766e-05 4.21696503e-05 5.62341325e-05 7.49894209e-05\n",
      " 1.00000000e-04 1.33352143e-04 1.77827941e-04 2.37137371e-04\n",
      " 3.16227766e-04 4.21696503e-04 5.62341325e-04 7.49894209e-04\n",
      " 1.00000000e-03 1.33352143e-03 1.77827941e-03 2.37137371e-03\n",
      " 3.16227766e-03]\n"
     ]
    },
    {
     "data": {
      "image/png": "[encoded data removed]",
      "text/plain": [
       "<Figure size 432x288 with 1 Axes>"
      ]
     },
     "metadata": {
      "needs_background": "light"
     },
     "output_type": "display_data"
    }
   ],
   "source": [
    "x_log = np.logspace(-5.5,-2.5,number_samples)\n",
    "printing(x_log)\n",
    "x_log = x_log * -1"
   ]
  },
  {
   "cell_type": "code",
   "execution_count": 10,
   "metadata": {},
   "outputs": [
    {
     "name": "stdout",
     "output_type": "stream",
     "text": [
      "[-1.00000000e-06 -1.57989474e-03 -3.15878947e-03 -4.73768421e-03\n",
      " -6.31657895e-03 -7.89547368e-03 -9.47436842e-03 -1.10532632e-02\n",
      " -1.26321579e-02 -1.42110526e-02 -1.57899474e-02 -1.73688421e-02\n",
      " -1.89477368e-02 -2.05266316e-02 -2.21055263e-02 -2.36844211e-02\n",
      " -2.52633158e-02 -2.68422105e-02 -2.84211053e-02 -3.00000000e-02]\n"
     ]
    },
    {
     "data": {
      "image/png": "[encoded data removed]",
      "text/plain": [
       "<Figure size 432x288 with 1 Axes>"
      ]
     },
     "metadata": {
      "needs_background": "light"
     },
     "output_type": "display_data"
    }
   ],
   "source": [
    "def sampling_uniform(param_dataset_size):\n",
    "    # regular spacing: uniform\n",
    "    value_start = -1*10**-6\n",
    "    value_stop = -3*10**-2\n",
    "    x_array = np.linspace(value_start, value_stop, param_dataset_size)\n",
    "    return x_array\n",
    "printing(sampling_uniform(20))"
   ]
  },
  {
   "cell_type": "code",
   "execution_count": null,
   "metadata": {},
   "outputs": [],
   "source": []
  }
 ],
 "metadata": {
  "interpreter": {
   "hash": "55b09931d414103c8b6886af0a1edcfe2c130d5f4db2734a847754e1dbe9ad78"
  },
  "kernelspec": {
   "display_name": "Python 3.8.10 64-bit ('poetry-test-k7vgOhCE-py3.8': poetry)",
   "language": "python",
   "name": "python3"
  },
  "language_info": {
   "codemirror_mode": {
    "name": "ipython",
    "version": 3
   },
   "file_extension": ".py",
   "mimetype": "text/x-python",
   "name": "python",
   "nbconvert_exporter": "python",
   "pygments_lexer": "ipython3",
   "version": "3.8.10"
  },
  "orig_nbformat": 4
 },
 "nbformat": 4,
 "nbformat_minor": 2
}
