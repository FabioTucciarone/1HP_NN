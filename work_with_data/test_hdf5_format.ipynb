{
 "cells": [
  {
   "cell_type": "code",
   "execution_count": 1,
   "metadata": {},
   "outputs": [],
   "source": [
    "import h5py\n",
    "import numpy as np\n",
    "import pandas as pd"
   ]
  },
  {
   "cell_type": "code",
   "execution_count": 25,
   "metadata": {},
   "outputs": [
    {
     "data": {
      "text/plain": [
       "['Coordinates', 'Provenance', 'Time:  0.00000E+00 y', 'Time:  5.00000E+00 y']"
      ]
     },
     "execution_count": 25,
     "metadata": {},
     "output_type": "execute_result"
    }
   ],
   "source": [
    "#f = h5py.File('../dataset_HDF5_rectangular_domain/RUN_50/pflotran.h5', 'r')\n",
    "#f = h5py.File('../test_pflotran.h5', 'r')\n",
    "f = h5py.File('/home/pelzerja/Development/simulation_groundtruth_pflotran/Phd_simulation_groundtruth/approach2_dataset_generation_simplified/dataset_HDF5_new_massrate/RUN_0/pflotran.h5')\n",
    "list(f) #['Time:  5.00000E+00 y'])"
   ]
  },
  {
   "cell_type": "code",
   "execution_count": 26,
   "metadata": {},
   "outputs": [
    {
     "name": "stdout",
     "output_type": "stream",
     "text": [
      "[860641.8241216138, 811603.4185981352, 762566.1480424198, 713530.0136926491, 664495.0148975274, 615461.151732487, 566428.4238368169, 517396.83244910365, 468366.37691795186, 419337.05731888994, 370308.87329118705, 321281.8260738334, 272255.91501533677, 223231.14019132112, 174207.50124103428, 125184.99940387339]\n"
     ]
    },
    {
     "ename": "KeyError",
     "evalue": "\"Unable to open object (object 'Time:  1.00000E-01 y' doesn't exist)\"",
     "output_type": "error",
     "traceback": [
      "\u001b[0;31m---------------------------------------------------------------------------\u001b[0m",
      "\u001b[0;31mKeyError\u001b[0m                                  Traceback (most recent call last)",
      "\u001b[1;32m/home/pelzerja/Development/3D_FCN/work_with_data/test_hdf5_format.ipynb Cell 3'\u001b[0m in \u001b[0;36m<module>\u001b[0;34m\u001b[0m\n\u001b[1;32m      <a href='vscode-notebook-cell:/home/pelzerja/Development/3D_FCN/work_with_data/test_hdf5_format.ipynb#ch0000002?line=0'>1</a>\u001b[0m \u001b[39m#print(list(f['Time:  0.00000E+00 y']['Liquid_Pressure [Pa]'][10][0])) #Liquid Y-Velocity [m_per_y]'])\u001b[39;00m\n\u001b[1;32m      <a href='vscode-notebook-cell:/home/pelzerja/Development/3D_FCN/work_with_data/test_hdf5_format.ipynb#ch0000002?line=1'>2</a>\u001b[0m \u001b[39m#print(list(f['Time:  1.00000E-01 y']['Liquid_Pressure [Pa]'][10][0])) #Liquid Y-Velocity [m_per_y]'])\u001b[39;00m\n\u001b[1;32m      <a href='vscode-notebook-cell:/home/pelzerja/Development/3D_FCN/work_with_data/test_hdf5_format.ipynb#ch0000002?line=2'>3</a>\u001b[0m \u001b[39m#print(list(f['Time:  5.00000E+00 y']['Liquid_Pressure [Pa]'][10][0])) #Liquid Y-Velocity [m_per_y]'])\u001b[39;00m\n\u001b[1;32m      <a href='vscode-notebook-cell:/home/pelzerja/Development/3D_FCN/work_with_data/test_hdf5_format.ipynb#ch0000002?line=3'>4</a>\u001b[0m \u001b[39mprint\u001b[39m(\u001b[39mlist\u001b[39m(f[\u001b[39m'\u001b[39m\u001b[39mTime:  0.00000E+00 y\u001b[39m\u001b[39m'\u001b[39m][\u001b[39m'\u001b[39m\u001b[39mLiquid_Pressure [Pa]\u001b[39m\u001b[39m'\u001b[39m][\u001b[39m10\u001b[39m][\u001b[39m25\u001b[39m])) \u001b[39m#Liquid Y-Velocity [m_per_y]'])\u001b[39;00m\n\u001b[0;32m----> <a href='vscode-notebook-cell:/home/pelzerja/Development/3D_FCN/work_with_data/test_hdf5_format.ipynb#ch0000002?line=4'>5</a>\u001b[0m \u001b[39mprint\u001b[39m(\u001b[39mlist\u001b[39m(f[\u001b[39m'\u001b[39;49m\u001b[39mTime:  1.00000E-01 y\u001b[39;49m\u001b[39m'\u001b[39;49m][\u001b[39m'\u001b[39m\u001b[39mLiquid_Pressure [Pa]\u001b[39m\u001b[39m'\u001b[39m][\u001b[39m10\u001b[39m][\u001b[39m25\u001b[39m])) \u001b[39m#Liquid Y-Velocity [m_per_y]'])\u001b[39;00m\n\u001b[1;32m      <a href='vscode-notebook-cell:/home/pelzerja/Development/3D_FCN/work_with_data/test_hdf5_format.ipynb#ch0000002?line=5'>6</a>\u001b[0m \u001b[39mprint\u001b[39m(\u001b[39mlist\u001b[39m(f[\u001b[39m'\u001b[39m\u001b[39mTime:  5.00000E+00 y\u001b[39m\u001b[39m'\u001b[39m][\u001b[39m'\u001b[39m\u001b[39mLiquid_Pressure [Pa]\u001b[39m\u001b[39m'\u001b[39m][\u001b[39m10\u001b[39m][\u001b[39m25\u001b[39m]))\n",
      "File \u001b[0;32mh5py/_objects.pyx:54\u001b[0m, in \u001b[0;36mh5py._objects.with_phil.wrapper\u001b[0;34m()\u001b[0m\n",
      "File \u001b[0;32mh5py/_objects.pyx:55\u001b[0m, in \u001b[0;36mh5py._objects.with_phil.wrapper\u001b[0;34m()\u001b[0m\n",
      "File \u001b[0;32m~/.local/lib/python3.8/site-packages/h5py/_hl/group.py:305\u001b[0m, in \u001b[0;36mGroup.__getitem__\u001b[0;34m(self, name)\u001b[0m\n\u001b[1;32m    <a href='file:///home/pelzerja/.local/lib/python3.8/site-packages/h5py/_hl/group.py?line=302'>303</a>\u001b[0m         \u001b[39mraise\u001b[39;00m \u001b[39mValueError\u001b[39;00m(\u001b[39m\"\u001b[39m\u001b[39mInvalid HDF5 object reference\u001b[39m\u001b[39m\"\u001b[39m)\n\u001b[1;32m    <a href='file:///home/pelzerja/.local/lib/python3.8/site-packages/h5py/_hl/group.py?line=303'>304</a>\u001b[0m \u001b[39melif\u001b[39;00m \u001b[39misinstance\u001b[39m(name, (\u001b[39mbytes\u001b[39m, \u001b[39mstr\u001b[39m)):\n\u001b[0;32m--> <a href='file:///home/pelzerja/.local/lib/python3.8/site-packages/h5py/_hl/group.py?line=304'>305</a>\u001b[0m     oid \u001b[39m=\u001b[39m h5o\u001b[39m.\u001b[39;49mopen(\u001b[39mself\u001b[39;49m\u001b[39m.\u001b[39;49mid, \u001b[39mself\u001b[39;49m\u001b[39m.\u001b[39;49m_e(name), lapl\u001b[39m=\u001b[39;49m\u001b[39mself\u001b[39;49m\u001b[39m.\u001b[39;49m_lapl)\n\u001b[1;32m    <a href='file:///home/pelzerja/.local/lib/python3.8/site-packages/h5py/_hl/group.py?line=305'>306</a>\u001b[0m \u001b[39melse\u001b[39;00m:\n\u001b[1;32m    <a href='file:///home/pelzerja/.local/lib/python3.8/site-packages/h5py/_hl/group.py?line=306'>307</a>\u001b[0m     \u001b[39mraise\u001b[39;00m \u001b[39mTypeError\u001b[39;00m(\u001b[39m\"\u001b[39m\u001b[39mAccessing a group is done with bytes or str, \u001b[39m\u001b[39m\"\u001b[39m\n\u001b[1;32m    <a href='file:///home/pelzerja/.local/lib/python3.8/site-packages/h5py/_hl/group.py?line=307'>308</a>\u001b[0m                     \u001b[39m\"\u001b[39m\u001b[39m not \u001b[39m\u001b[39m{}\u001b[39;00m\u001b[39m\"\u001b[39m\u001b[39m.\u001b[39mformat(\u001b[39mtype\u001b[39m(name)))\n",
      "File \u001b[0;32mh5py/_objects.pyx:54\u001b[0m, in \u001b[0;36mh5py._objects.with_phil.wrapper\u001b[0;34m()\u001b[0m\n",
      "File \u001b[0;32mh5py/_objects.pyx:55\u001b[0m, in \u001b[0;36mh5py._objects.with_phil.wrapper\u001b[0;34m()\u001b[0m\n",
      "File \u001b[0;32mh5py/h5o.pyx:190\u001b[0m, in \u001b[0;36mh5py.h5o.open\u001b[0;34m()\u001b[0m\n",
      "\u001b[0;31mKeyError\u001b[0m: \"Unable to open object (object 'Time:  1.00000E-01 y' doesn't exist)\""
     ]
    }
   ],
   "source": [
    "#print(list(f['Time:  0.00000E+00 y']['Liquid_Pressure [Pa]'][10][0])) #Liquid Y-Velocity [m_per_y]'])\n",
    "#print(list(f['Time:  1.00000E-01 y']['Liquid_Pressure [Pa]'][10][0])) #Liquid Y-Velocity [m_per_y]'])\n",
    "#print(list(f['Time:  5.00000E+00 y']['Liquid_Pressure [Pa]'][10][0])) #Liquid Y-Velocity [m_per_y]'])\n",
    "print(list(f['Time:  0.00000E+00 y']['Liquid_Pressure [Pa]'][10][25])) #Liquid Y-Velocity [m_per_y]'])\n",
    "print(list(f['Time:  1.00000E-01 y']['Liquid_Pressure [Pa]'][10][25])) #Liquid Y-Velocity [m_per_y]'])\n",
    "print(list(f['Time:  5.00000E+00 y']['Liquid_Pressure [Pa]'][10][25])) #Liquid Y-Velocity [m_per_y]'])\n",
    "#print(list(f['Time:  0.00000E+00 y']['Liquid_Pressure [Pa]'][10][150])) #Liquid Y-Velocity [m_per_y]'])\n",
    "#print(list(f['Time:  1.00000E-01 y']['Liquid_Pressure [Pa]'][10][150])) #Liquid Y-Velocity [m_per_y]'])\n",
    "#print(list(f['Time:  5.00000E+00 y']['Liquid_Pressure [Pa]'][10][150])) #Liquid Y-Velocity [m_per_y]'])"
   ]
  },
  {
   "cell_type": "code",
   "execution_count": 27,
   "metadata": {},
   "outputs": [
    {
     "data": {
      "text/plain": [
       "(20, 200, 16)"
      ]
     },
     "execution_count": 27,
     "metadata": {},
     "output_type": "execute_result"
    }
   ],
   "source": [
    "#list(f['Time:  5.00000E+00 y']['Liquid Y-Velocity [m_per_y]'])\n",
    "data_vely = f['Time:  5.00000E+00 y']['Liquid Y-Velocity [m_per_y]']\n",
    "data_vely.dtype # 64-bit floating-point number\n",
    "data_vely.shape"
   ]
  },
  {
   "cell_type": "code",
   "execution_count": 28,
   "metadata": {},
   "outputs": [
    {
     "name": "stdout",
     "output_type": "stream",
     "text": [
      "(21,)\n",
      "75.0\n"
     ]
    }
   ],
   "source": [
    "data_coord = f['Coordinates']\n",
    "print(data_coord['X [m]'].shape)\n",
    "# coordinates' shape != parameter values' shape ?!?!\n",
    "print(data_coord['Z [m]'][15])"
   ]
  },
  {
   "cell_type": "code",
   "execution_count": 33,
   "metadata": {},
   "outputs": [
    {
     "name": "stdout",
     "output_type": "stream",
     "text": [
      "Coordinates\n",
      "Coordinates/X [m]\n",
      "Coordinates/Y [m]\n",
      "Coordinates/Z [m]\n",
      "Provenance\n",
      "Provenance/PETSc\n",
      "Provenance/PETSc/detail_petsc_config\n",
      "Provenance/PETSc/detail_petsc_parent\n",
      "Provenance/PETSc/detail_petsc_status\n",
      "Provenance/PFLOTRAN\n",
      "Provenance/PFLOTRAN/detail_pflotran_diff\n",
      "Provenance/PFLOTRAN/detail_pflotran_fflags\n",
      "Provenance/PFLOTRAN/detail_pflotran_parent\n",
      "Provenance/PFLOTRAN/detail_pflotran_status\n",
      "Provenance/PFLOTRAN/pflotran_compile_date_time\n",
      "Provenance/PFLOTRAN/pflotran_compile_hostname\n",
      "Provenance/PFLOTRAN/pflotran_compile_user\n",
      "Provenance/PFLOTRAN/pflotran_input_file\n",
      "Time:  0.00000E+00 y\n",
      "Time:  0.00000E+00 y/Liquid X-Velocity [m_per_y]\n",
      "Time:  0.00000E+00 y/Liquid Y-Velocity [m_per_y]\n",
      "Time:  0.00000E+00 y/Liquid Z-Velocity [m_per_y]\n",
      "Time:  0.00000E+00 y/Liquid_Pressure [Pa]\n",
      "Time:  0.00000E+00 y/Material_ID\n",
      "Time:  0.00000E+00 y/Temperature [C]\n",
      "Time:  5.00000E+00 y\n",
      "Time:  5.00000E+00 y/Liquid X-Velocity [m_per_y]\n",
      "Time:  5.00000E+00 y/Liquid Y-Velocity [m_per_y]\n",
      "Time:  5.00000E+00 y/Liquid Z-Velocity [m_per_y]\n",
      "Time:  5.00000E+00 y/Liquid_Pressure [Pa]\n",
      "Time:  5.00000E+00 y/Material_ID\n",
      "Time:  5.00000E+00 y/Temperature [C]\n",
      "Liquid X-Velocity [m_per_y]\n",
      "Liquid Y-Velocity [m_per_y]\n",
      "Liquid Z-Velocity [m_per_y]\n",
      "Liquid_Pressure [Pa]\n",
      "Material_ID\n",
      "Temperature [C]\n"
     ]
    }
   ],
   "source": [
    "def printname(name):\n",
    "    print(name)\n",
    "\n",
    "f.visit(printname)\n",
    "\n",
    "#print(f[\"Provenance\"][\"PFLOTRAN\"][\"pflotran_input_file\"][::])\n",
    "\n",
    "f[\"Time:  5.00000E+00 y\"].visit(printname)"
   ]
  },
  {
   "cell_type": "code",
   "execution_count": 7,
   "metadata": {},
   "outputs": [],
   "source": [
    "import matplotlib.pyplot as plt\n",
    "import matplotlib as mpl\n",
    "COLOR = 'white'\n",
    "mpl.rcParams['text.color'] = COLOR\n",
    "mpl.rcParams['axes.labelcolor'] = COLOR\n",
    "mpl.rcParams['xtick.color'] = COLOR\n",
    "mpl.rcParams['ytick.color'] = COLOR"
   ]
  },
  {
   "cell_type": "code",
   "execution_count": null,
   "metadata": {},
   "outputs": [],
   "source": [
    "print(list(f['Time:  0.00000E+00 y']['Liquid_Pressure [Pa]'][50][25]))"
   ]
  }
 ],
 "metadata": {
  "interpreter": {
   "hash": "55b09931d414103c8b6886af0a1edcfe2c130d5f4db2734a847754e1dbe9ad78"
  },
  "kernelspec": {
   "display_name": "Python 3.8.10 64-bit ('poetry-test-k7vgOhCE-py3.8': poetry)",
   "language": "python",
   "name": "python3"
  },
  "language_info": {
   "codemirror_mode": {
    "name": "ipython",
    "version": 3
   },
   "file_extension": ".py",
   "mimetype": "text/x-python",
   "name": "python",
   "nbconvert_exporter": "python",
   "pygments_lexer": "ipython3",
   "version": "3.8.10"
  },
  "orig_nbformat": 4
 },
 "nbformat": 4,
 "nbformat_minor": 2
}
