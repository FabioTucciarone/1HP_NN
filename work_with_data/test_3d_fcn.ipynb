{
 "cells": [
  {
   "cell_type": "code",
   "execution_count": 22,
   "metadata": {},
   "outputs": [],
   "source": [
    "import os\n",
    "os.environ[\"CUDA_DEVICE_ORDER\"] = \"PCI_BUS_ID\"   #if like me you do not have a lot of memory in your GPU\n",
    "os.environ[\"CUDA_VISIBLE_DEVICES\"] = \"\" #then these two lines force keras to use your CPU\n",
    "import numpy as np\n",
    "import pandas as pd\n",
    "import matplotlib.pyplot as plt"
   ]
  },
  {
   "cell_type": "code",
   "execution_count": 4,
   "metadata": {},
   "outputs": [
    {
     "name": "stderr",
     "output_type": "stream",
     "text": [
      "100%|██████████| 7/7 [00:00<00:00, 158.91it/s]\n"
     ]
    }
   ],
   "source": [
    "import read_and_visualize_data as rnv\n",
    "\n",
    "df = rnv.read_and_visualize_data_as_df(\"dataset_HDF5_test\", False) #dataset_HDF5_uniformly_distributed_data"
   ]
  },
  {
   "cell_type": "markdown",
   "metadata": {},
   "source": [
    "**Preprocessing**"
   ]
  },
  {
   "cell_type": "code",
   "execution_count": 10,
   "metadata": {},
   "outputs": [],
   "source": [
    "from sklearn.preprocessing import MinMaxScaler\n",
    "import tensorflow as tf"
   ]
  },
  {
   "cell_type": "code",
   "execution_count": 6,
   "metadata": {},
   "outputs": [],
   "source": [
    "## shuffle data along \"RUN_\"-axis\n",
    "# is already shuffled from reading-order but whatever\n",
    "df_shuffled = df.sample(frac=1)\n",
    "\n",
    "## split data into test and training data\n",
    "train_size_percent = 0.8\n",
    "train_size_abs = int(train_size_percent * df.shape[0]) # cuts instead of rounds\n",
    "\n",
    "df_train = df_shuffled[:train_size_abs]\n",
    "df_test = df_shuffled[train_size_abs:]"
   ]
  },
  {
   "cell_type": "code",
   "execution_count": 12,
   "metadata": {},
   "outputs": [],
   "source": [
    "## data normalizing:\n",
    "# prep data: normalize all input values (vel/pressure) and all output values (temp/vel?), each to its own min,max, std\n",
    "\n",
    "# scaler-function for a row(=index) in the dataset\n",
    "def get_max_min(array):\n",
    "    return np.max(array), np.min(array)\n",
    "\n",
    "def scale_data_row(data, column, desired_max = 1, desired_min = -1):\n",
    "    max_list = []\n",
    "    min_list = []\n",
    "    for row in data.index:\n",
    "        max_temp, min_temp = get_max_min(data.at[row, column])\n",
    "        max_list.append(max_temp)\n",
    "        min_list.append(min_temp)\n",
    "    \n",
    "    max_data = np.max(max_list)\n",
    "    min_data = np.min(min_list)    \n",
    "    for row in data.index:\n",
    "        data_std = (data.at[row,column] - min_data) / (max_data - min_data)\n",
    "        data.at[row, column] = data_std * (desired_max - desired_min) + desired_min\n",
    "        #print(row, column)\n",
    "        #print(np.max(data.at[row, column]), np.min(data.at[row, column]))\n",
    "\n",
    "    return data\n",
    "#test = [[[1,2], [1,2]], [[3,3], [3,3]], [[1,2], [1,2]], [[-10,10], [4,4]]]\n",
    "#test_res = scale_data_row(test)\n",
    "#print(np.std(test_res))\n",
    "\n",
    "def scale_data(data):\n",
    "    for column in data.columns:\n",
    "        data = scale_data_row(data, column)\n",
    "    return data\n",
    "\n",
    "df_train = scale_data(df_train)\n",
    "df_test = scale_data(df_test)\n",
    "\n",
    "# just for manuel checking the values\n",
    "#for column in df_test.columns:\n",
    "#    for row in df_test.index:\n",
    "#        print(column, row, np.min(df_test.at[row, column]), np.max(df_test.at[row, column]), np.std(df_test.at[row, column]))\n",
    "#for column in df_train.columns:\n",
    "#    for row in df_train.index:\n",
    "#        print(column, row, np.min(df_train.at[row, column]), np.max(df_train.at[row, column]), np.std(df_train.at[row, column]))"
   ]
  },
  {
   "cell_type": "code",
   "execution_count": 13,
   "metadata": {},
   "outputs": [],
   "source": [
    "## split data into input and labels\n",
    "df_train_in = pd.DataFrame(df_train[[\"Liquid_Pressure [Pa]\",\"Material_ID\"]])\n",
    "df_train_labels = pd.DataFrame(df_train[\"Temperature [C]\"])\n",
    "df_test_in = pd.DataFrame(df_test[[\"Liquid_Pressure [Pa]\",\"Material_ID\"]])\n",
    "df_test_labels = pd.DataFrame(df_test[\"Temperature [C]\"])"
   ]
  },
  {
   "cell_type": "code",
   "execution_count": 14,
   "metadata": {},
   "outputs": [],
   "source": [
    "## parameters\n",
    "#shuffle_buffer_size = 10\n",
    "#\n",
    "### seperate dataset into input data and corresponding output labels\n",
    "#data_in = {}\n",
    "#data_labels = {}\n",
    "#\n",
    "#data_in['Liquid_Pressure [Pa]'] = data['Liquid_Pressure [Pa]'] #maybe for help in beginning: 'Liquid X-Velocity [m_per_y]', 'Liquid Y-Velocity [m_per_y]', 'Liquid Z-Velocity [m_per_y]']\n",
    "#data_in['Material_ID'] = data['Material_ID']\n",
    "#data_labels['Temperature [C]'] = data['Temperature [C]']\n",
    "#\n",
    "## create dataset for tf, slice along first dimension: datapoint\n",
    "## one element := one datapoint (RUN_XYZ); each datapoint is a dictionnary with [0]: input keys=\"physical properties\" (p,pos_hp), values =(x,y,z)-component, [1]:  output keys=\"physical properties\" (T), values =(x,y,z)-component\n",
    "#tf_data = tf.data.Dataset.from_tensor_slices((data_in, data_labels))\n",
    "##print(tf_data.element_spec)\n",
    "#print([elem[0]['Liquid_Pressure [Pa]'][0,0,0].numpy() for elem in tf_data])\n",
    "#\n",
    "## shuffle the data\n",
    "#tf_data = tf_data.shuffle(shuffle_buffer_size)\n",
    "#print([elem[0]['Liquid_Pressure [Pa]'][0,0,0].numpy() for elem in tf_data])\n",
    "#\n",
    "##np.random.seed(seed=1) # TODO just for programming and varification purposes at this point, delete later!"
   ]
  },
  {
   "cell_type": "code",
   "execution_count": 15,
   "metadata": {},
   "outputs": [],
   "source": [
    "## mnist example to figure out dimensions, format etc\n",
    "#temp = tf.keras.datasets.mnist.load_data(\n",
    "#    path='mnist.npz'\n",
    "#)\n",
    "#for i in (0,1):\n",
    "#    for j in (0,1):\n",
    "#        print(np.shape(temp[i][j]))"
   ]
  },
  {
   "cell_type": "code",
   "execution_count": 17,
   "metadata": {},
   "outputs": [],
   "source": [
    "def reshape(data):\n",
    "    data_reshape = []\n",
    "    for row in data.index:\n",
    "        temp = []\n",
    "        for column in data.columns:\n",
    "            temp.append(data.at[row, column])\n",
    "        data_reshape.append(temp)\n",
    "\n",
    "    #print(data.columns, data.index)\n",
    "    data_reshape = np.moveaxis(data_reshape, 1, 4)\n",
    "    #print(np.shape(data_reshape))\n",
    "    return data_reshape\n",
    "\n",
    "data_train_in =reshape(df_train_in)\n",
    "data_train_labels =reshape(df_train_labels)\n",
    "data_test_in =reshape(df_test_in)\n",
    "data_test_labels =reshape(df_test_labels)\n",
    "\n",
    "\n",
    "# make tuples for input into tf.data.Dataset\n",
    "data_train = (data_train_in, data_train_labels)\n",
    "data_test = (data_test_in, data_test_labels)\n",
    "data = (data_train, data_test)"
   ]
  },
  {
   "cell_type": "markdown",
   "metadata": {},
   "source": [
    "**FCN model definition**\n",
    "\n",
    "adapted from https://github.com/himanshurawlani/fully_convolutional_network.git\n",
    "made it 3D"
   ]
  },
  {
   "cell_type": "code",
   "execution_count": 18,
   "metadata": {},
   "outputs": [],
   "source": [
    "import tensorflow.keras\n",
    "from tensorflow.keras.models import Sequential\n",
    "from tensorflow.keras.layers import Input, Conv3D, MaxPooling3D, Dropout, BatchNormalization, Activation, MaxPool3D, Dense, GlobalAveragePooling3D, ReLU, LeakyReLU, UpSampling3D\n",
    "from tensorflow.keras.utils import to_categorical"
   ]
  },
  {
   "cell_type": "code",
   "execution_count": 20,
   "metadata": {},
   "outputs": [],
   "source": [
    "#print(np.shape(data))\n",
    "tf_dataloader_train = tf.data.Dataset.from_tensors(data_train)\n",
    "tf_dataloader_test = tf.data.Dataset.from_tensors(data_test)\n",
    "# data format: number of sample, x,y,z-dimension, physical property/\"channel\"\n",
    "\n",
    "batch_size = 2\n",
    "# Augment the on the fly during training.\n",
    "tf_data_train = (\n",
    "    tf_dataloader_train#.shuffle(len(x_train))\n",
    "    #.map(train_preprocessing)\n",
    "    .batch(batch_size)\n",
    "    .prefetch(2)\n",
    ")\n",
    "\n",
    "tf_data_test = (\n",
    "    tf_dataloader_test\n",
    "    .batch(batch_size)\n",
    "    .prefetch(2)\n",
    ")"
   ]
  },
  {
   "cell_type": "code",
   "execution_count": 23,
   "metadata": {},
   "outputs": [
    {
     "data": {
      "image/png": "[encoded data removed]",
      "text/plain": [
       "<Figure size 864x372.822 with 14 Axes>"
      ]
     },
     "metadata": {
      "needs_background": "light"
     },
     "output_type": "display_data"
    }
   ],
   "source": [
    "## plotting\n",
    "\n",
    "tf_data_train = tf_dataloader_train.take(1)\n",
    "temp_images, temp_labels = list(tf_data_train)[0]\n",
    "temp_labels =  temp_labels.numpy()\n",
    "temp_image =  temp_labels[1]\n",
    "#print(temp_image.shape)\n",
    "#plt.imshow(np.squeeze(temp_image[:, :, 0, 0]), cmap=\"gray\")\n",
    "\n",
    "def plot_slices(num_rows, num_columns, width, height, data):\n",
    "    \"\"\"Plot a montage of 20 CT slices\"\"\"\n",
    "    data = np.rot90(np.array(data))\n",
    "    data = np.transpose(data)\n",
    "    data = np.reshape(data, (num_rows, num_columns, width, height))\n",
    "    data = np.flip(np.array(data))\n",
    "    #data = np.flip(np.array(data),axis=2)\n",
    "    rows_data, columns_data = data.shape[0], data.shape[1]\n",
    "    heights = [slc[0].shape[0] for slc in data]\n",
    "    widths = [slc.shape[1] for slc in data[0]]\n",
    "    fig_width = 12.0\n",
    "    fig_height = fig_width * sum(heights) / sum(widths)\n",
    "    f, axarr = plt.subplots(\n",
    "        rows_data,\n",
    "        columns_data,\n",
    "        figsize=(fig_width, fig_height),\n",
    "        gridspec_kw={\"height_ratios\": heights},\n",
    "    )\n",
    "    for i in range(rows_data):\n",
    "        for j in range(columns_data):\n",
    "            axarr[i, j].imshow(data[i][j], cmap=\"gray\")\n",
    "            axarr[i, j].axis(\"off\")\n",
    "    plt.subplots_adjust(wspace=0, hspace=0, left=0, right=1, bottom=0, top=1)\n",
    "    plt.show()\n",
    "\n",
    "\n",
    "# Visualize montage of slices.\n",
    "# 7 rows and 2 columns for 14 slices of the CT scan.\n",
    "plot_slices(7, 2, 18, 146, temp_image[:, :, :, 0])\n",
    "\n",
    "# TODO order of z wrong???\n"
   ]
  },
  {
   "cell_type": "code",
   "execution_count": 24,
   "metadata": {},
   "outputs": [],
   "source": [
    "#model = tf.keras.Sequential([\n",
    "#  tf.keras.layers.Flatten(),\n",
    "#  tf.keras.layers.Dense(10)\n",
    "#])\n",
    "#\n",
    "#model.compile(optimizer='adam',\n",
    "#              loss=tf.keras.losses.SparseCategoricalCrossentropy(from_logits=True), \n",
    "#              metrics=['accuracy'])\n",
    "#\n",
    "##model.fit(tf_data_train, epochs=2)"
   ]
  },
  {
   "cell_type": "code",
   "execution_count": 26,
   "metadata": {},
   "outputs": [],
   "source": [
    "#width, height, depth=[18,146, 14]\n",
    "#\n",
    "#def get_model(width=18, height=146, depth=14):\n",
    "#    \"\"\"Build a 3D convolutional neural network model.\"\"\"\n",
    "#\n",
    "#    inputs = tf.keras.Input((width, height, depth, 2)) #2?\n",
    "#\n",
    "#    x = Conv3D(filters=64, kernel_size=3, activation=\"relu\")(inputs)\n",
    "#    x = MaxPool3D(pool_size=2)(x)\n",
    "#    x = BatchNormalization()(x)\n",
    "#\n",
    "#    x = Conv3D(filters=64, kernel_size=3, activation=\"relu\")(x)\n",
    "#    x = MaxPool3D(pool_size=2)(x)\n",
    "#    x = BatchNormalization()(x)\n",
    "#\n",
    "#    x = GlobalAveragePooling3D()(x)\n",
    "#    x = Dense(units=512, activation=\"relu\")(x)\n",
    "#    x = Dropout(0.3)(x)\n",
    "#\n",
    "#    outputs = Dense(units=1, activation=\"sigmoid\")(x)\n",
    "#\n",
    "#    # Define the model.\n",
    "#    model = tf.keras.Model(inputs, outputs, name=\"3dcnn\")\n",
    "#    return model\n",
    "#\n",
    "#\n",
    "## Build model.\n",
    "#model = get_model(width=18, height=146, depth=14)\n",
    "#model.summary()"
   ]
  },
  {
   "cell_type": "code",
   "execution_count": 27,
   "metadata": {},
   "outputs": [
    {
     "name": "stdout",
     "output_type": "stream",
     "text": [
      "Model: \"sequential_1\"\n",
      "_________________________________________________________________\n",
      " Layer (type)                Output Shape              Param #   \n",
      "=================================================================\n",
      " conv3d_2 (Conv3D)           (None, 9, 73, 7, 64)      8256      \n",
      "                                                                 \n",
      " sequential (Sequential)     (None, 5, 37, 4, 128)     524436    \n",
      "                                                                 \n",
      "=================================================================\n",
      "Total params: 532,692\n",
      "Trainable params: 532,682\n",
      "Non-trainable params: 10\n",
      "_________________________________________________________________\n"
     ]
    }
   ],
   "source": [
    "##TRY UNET KYLE\n",
    "def blockUNet(in_c, out_c, input_shape=(18,146,14), transposed=False, bn=True, activation=\"relu\", size=4, strides=2, pad=\"same\", dropout=0.0):\n",
    "    input_shape = np.append(input_shape, in_c)\n",
    "    block = Sequential()\n",
    "    #block.add(tf.keras.Input(input_shape))\n",
    "    if activation==\"relu\":\n",
    "        block.add(ReLU())\n",
    "    else:\n",
    "        block.add(LeakyReLU(alpha=0.2))\n",
    "    if not transposed:\n",
    "        block.add(Conv3D(out_c, kernel_size=size, strides=strides, padding=pad, use_bias=True))\n",
    "    else:\n",
    "        block.add(UpSampling3D(size=2, data_format=\"channels_last\"))\n",
    "        block.add(Conv3D(out_c, kernel_size=(size - 1), strides=1, padding=pad, use_bias=True))\n",
    "    if bn:\n",
    "        block.add(BatchNormalization(axis=1)) #(out_c))\n",
    "    if dropout > 0.0:\n",
    "        block.add(Dropout(dropout)) # inplace=True))\n",
    "    return block\n",
    "\n",
    "#UNET Try\n",
    "channel_exponent = 6\n",
    "dropout=0.0\n",
    "\n",
    "channels = int(2**channel_exponent + 0.5)\n",
    "input_shape = (4, 18, 146, 14, 2) #!! TODO Batchsize!!\n",
    "model = tf.keras.Sequential([\n",
    "    Conv3D(filters=channels, kernel_size=4, strides=2, padding=\"same\", use_bias=True,input_shape=input_shape[1:], data_format=\"channels_last\"),\n",
    "    blockUNet(channels, channels * 2, input_shape[1:-1], transposed=False, bn=True,activation=\"LeakyReLU\",dropout=dropout), #layer2\n",
    "    #blockUNet(channels * 2, channels * 4, input_shape[1:-1], transposed=False, bn=True,activation=\"LeakyReLU\",dropout=dropout), #layer3\n",
    "    #blockUNet(channels * 4, channels * 8, input_shape[1:-1], transposed=False, bn=True,activation=\"LeakyReLU\",dropout=dropout, size=4), #layer4\n",
    "    #blockUNet(channels * 8, channels * 8, input_shape[1:-1], transposed=False, bn=False,activation=\"LeakyReLU\",dropout=dropout, size=2)#, pad=\"valid\"), #layer5\n",
    "    ])\n",
    "\n",
    "#TODO : decoder\n",
    "\n",
    "model.summary()"
   ]
  },
  {
   "cell_type": "code",
   "execution_count": 28,
   "metadata": {},
   "outputs": [
    {
     "name": "stdout",
     "output_type": "stream",
     "text": [
      "Epoch 1/100\n"
     ]
    },
    {
     "ename": "ValueError",
     "evalue": "in user code:\n\n    File \"/home/pelzerja/.local/lib/python3.8/site-packages/keras/engine/training.py\", line 878, in train_function  *\n        return step_function(self, iterator)\n    File \"/home/pelzerja/.local/lib/python3.8/site-packages/keras/engine/training.py\", line 867, in step_function  **\n        outputs = model.distribute_strategy.run(run_step, args=(data,))\n    File \"/home/pelzerja/.local/lib/python3.8/site-packages/keras/engine/training.py\", line 860, in run_step  **\n        outputs = model.train_step(data)\n    File \"/home/pelzerja/.local/lib/python3.8/site-packages/keras/engine/training.py\", line 809, in train_step\n        loss = self.compiled_loss(\n    File \"/home/pelzerja/.local/lib/python3.8/site-packages/keras/engine/compile_utils.py\", line 201, in __call__\n        loss_value = loss_obj(y_t, y_p, sample_weight=sw)\n    File \"/home/pelzerja/.local/lib/python3.8/site-packages/keras/losses.py\", line 141, in __call__\n        losses = call_fn(y_true, y_pred)\n    File \"/home/pelzerja/.local/lib/python3.8/site-packages/keras/losses.py\", line 245, in call  **\n        return ag_fn(y_true, y_pred, **self._fn_kwargs)\n    File \"/home/pelzerja/.local/lib/python3.8/site-packages/keras/losses.py\", line 1807, in binary_crossentropy\n        backend.binary_crossentropy(y_true, y_pred, from_logits=from_logits),\n    File \"/home/pelzerja/.local/lib/python3.8/site-packages/keras/backend.py\", line 5173, in binary_crossentropy\n        bce = target * tf.math.log(output + epsilon())\n\n    ValueError: Dimensions must be equal, but are 18 and 5 for '{{node binary_crossentropy/mul}} = Mul[T=DT_FLOAT](Cast, binary_crossentropy/Log)' with input shapes: [4,18,146,14,1], [4,5,37,4,128].\n",
     "output_type": "error",
     "traceback": [
      "\u001b[0;31m---------------------------------------------------------------------------\u001b[0m",
      "\u001b[0;31mValueError\u001b[0m                                Traceback (most recent call last)",
      "\u001b[1;32m/home/pelzerja/Development/3D_FCN/work_with_data/test_3d_fcn.ipynb Cell 18'\u001b[0m in \u001b[0;36m<module>\u001b[0;34m\u001b[0m\n\u001b[1;32m     <a href='vscode-notebook-cell:/home/pelzerja/Development/3D_FCN/work_with_data/test_3d_fcn.ipynb#ch0000017?line=17'>18</a>\u001b[0m \u001b[39m# Train the model, doing validation at the end of each epoch\u001b[39;00m\n\u001b[1;32m     <a href='vscode-notebook-cell:/home/pelzerja/Development/3D_FCN/work_with_data/test_3d_fcn.ipynb#ch0000017?line=18'>19</a>\u001b[0m epochs \u001b[39m=\u001b[39m \u001b[39m100\u001b[39m\n\u001b[0;32m---> <a href='vscode-notebook-cell:/home/pelzerja/Development/3D_FCN/work_with_data/test_3d_fcn.ipynb#ch0000017?line=19'>20</a>\u001b[0m model\u001b[39m.\u001b[39;49mfit(\n\u001b[1;32m     <a href='vscode-notebook-cell:/home/pelzerja/Development/3D_FCN/work_with_data/test_3d_fcn.ipynb#ch0000017?line=20'>21</a>\u001b[0m     tf_data_train,\n\u001b[1;32m     <a href='vscode-notebook-cell:/home/pelzerja/Development/3D_FCN/work_with_data/test_3d_fcn.ipynb#ch0000017?line=21'>22</a>\u001b[0m     validation_data\u001b[39m=\u001b[39;49mtf_data_test,\n\u001b[1;32m     <a href='vscode-notebook-cell:/home/pelzerja/Development/3D_FCN/work_with_data/test_3d_fcn.ipynb#ch0000017?line=22'>23</a>\u001b[0m     epochs\u001b[39m=\u001b[39;49mepochs,\n\u001b[1;32m     <a href='vscode-notebook-cell:/home/pelzerja/Development/3D_FCN/work_with_data/test_3d_fcn.ipynb#ch0000017?line=23'>24</a>\u001b[0m     shuffle\u001b[39m=\u001b[39;49m\u001b[39mTrue\u001b[39;49;00m,\n\u001b[1;32m     <a href='vscode-notebook-cell:/home/pelzerja/Development/3D_FCN/work_with_data/test_3d_fcn.ipynb#ch0000017?line=24'>25</a>\u001b[0m     verbose\u001b[39m=\u001b[39;49m\u001b[39m2\u001b[39;49m,\n\u001b[1;32m     <a href='vscode-notebook-cell:/home/pelzerja/Development/3D_FCN/work_with_data/test_3d_fcn.ipynb#ch0000017?line=25'>26</a>\u001b[0m     callbacks\u001b[39m=\u001b[39;49m[checkpoint_cb, early_stopping_cb],\n\u001b[1;32m     <a href='vscode-notebook-cell:/home/pelzerja/Development/3D_FCN/work_with_data/test_3d_fcn.ipynb#ch0000017?line=26'>27</a>\u001b[0m )\n",
      "File \u001b[0;32m~/.local/lib/python3.8/site-packages/keras/utils/traceback_utils.py:67\u001b[0m, in \u001b[0;36mfilter_traceback.<locals>.error_handler\u001b[0;34m(*args, **kwargs)\u001b[0m\n\u001b[1;32m     <a href='file:///home/pelzerja/.local/lib/python3.8/site-packages/keras/utils/traceback_utils.py?line=64'>65</a>\u001b[0m \u001b[39mexcept\u001b[39;00m \u001b[39mException\u001b[39;00m \u001b[39mas\u001b[39;00m e:  \u001b[39m# pylint: disable=broad-except\u001b[39;00m\n\u001b[1;32m     <a href='file:///home/pelzerja/.local/lib/python3.8/site-packages/keras/utils/traceback_utils.py?line=65'>66</a>\u001b[0m   filtered_tb \u001b[39m=\u001b[39m _process_traceback_frames(e\u001b[39m.\u001b[39m__traceback__)\n\u001b[0;32m---> <a href='file:///home/pelzerja/.local/lib/python3.8/site-packages/keras/utils/traceback_utils.py?line=66'>67</a>\u001b[0m   \u001b[39mraise\u001b[39;00m e\u001b[39m.\u001b[39mwith_traceback(filtered_tb) \u001b[39mfrom\u001b[39;00m \u001b[39mNone\u001b[39m\n\u001b[1;32m     <a href='file:///home/pelzerja/.local/lib/python3.8/site-packages/keras/utils/traceback_utils.py?line=67'>68</a>\u001b[0m \u001b[39mfinally\u001b[39;00m:\n\u001b[1;32m     <a href='file:///home/pelzerja/.local/lib/python3.8/site-packages/keras/utils/traceback_utils.py?line=68'>69</a>\u001b[0m   \u001b[39mdel\u001b[39;00m filtered_tb\n",
      "File \u001b[0;32m~/.local/lib/python3.8/site-packages/tensorflow/python/framework/func_graph.py:1129\u001b[0m, in \u001b[0;36mfunc_graph_from_py_func.<locals>.autograph_handler\u001b[0;34m(*args, **kwargs)\u001b[0m\n\u001b[1;32m   <a href='file:///home/pelzerja/.local/lib/python3.8/site-packages/tensorflow/python/framework/func_graph.py?line=1126'>1127</a>\u001b[0m \u001b[39mexcept\u001b[39;00m \u001b[39mException\u001b[39;00m \u001b[39mas\u001b[39;00m e:  \u001b[39m# pylint:disable=broad-except\u001b[39;00m\n\u001b[1;32m   <a href='file:///home/pelzerja/.local/lib/python3.8/site-packages/tensorflow/python/framework/func_graph.py?line=1127'>1128</a>\u001b[0m   \u001b[39mif\u001b[39;00m \u001b[39mhasattr\u001b[39m(e, \u001b[39m\"\u001b[39m\u001b[39mag_error_metadata\u001b[39m\u001b[39m\"\u001b[39m):\n\u001b[0;32m-> <a href='file:///home/pelzerja/.local/lib/python3.8/site-packages/tensorflow/python/framework/func_graph.py?line=1128'>1129</a>\u001b[0m     \u001b[39mraise\u001b[39;00m e\u001b[39m.\u001b[39mag_error_metadata\u001b[39m.\u001b[39mto_exception(e)\n\u001b[1;32m   <a href='file:///home/pelzerja/.local/lib/python3.8/site-packages/tensorflow/python/framework/func_graph.py?line=1129'>1130</a>\u001b[0m   \u001b[39melse\u001b[39;00m:\n\u001b[1;32m   <a href='file:///home/pelzerja/.local/lib/python3.8/site-packages/tensorflow/python/framework/func_graph.py?line=1130'>1131</a>\u001b[0m     \u001b[39mraise\u001b[39;00m\n",
      "\u001b[0;31mValueError\u001b[0m: in user code:\n\n    File \"/home/pelzerja/.local/lib/python3.8/site-packages/keras/engine/training.py\", line 878, in train_function  *\n        return step_function(self, iterator)\n    File \"/home/pelzerja/.local/lib/python3.8/site-packages/keras/engine/training.py\", line 867, in step_function  **\n        outputs = model.distribute_strategy.run(run_step, args=(data,))\n    File \"/home/pelzerja/.local/lib/python3.8/site-packages/keras/engine/training.py\", line 860, in run_step  **\n        outputs = model.train_step(data)\n    File \"/home/pelzerja/.local/lib/python3.8/site-packages/keras/engine/training.py\", line 809, in train_step\n        loss = self.compiled_loss(\n    File \"/home/pelzerja/.local/lib/python3.8/site-packages/keras/engine/compile_utils.py\", line 201, in __call__\n        loss_value = loss_obj(y_t, y_p, sample_weight=sw)\n    File \"/home/pelzerja/.local/lib/python3.8/site-packages/keras/losses.py\", line 141, in __call__\n        losses = call_fn(y_true, y_pred)\n    File \"/home/pelzerja/.local/lib/python3.8/site-packages/keras/losses.py\", line 245, in call  **\n        return ag_fn(y_true, y_pred, **self._fn_kwargs)\n    File \"/home/pelzerja/.local/lib/python3.8/site-packages/keras/losses.py\", line 1807, in binary_crossentropy\n        backend.binary_crossentropy(y_true, y_pred, from_logits=from_logits),\n    File \"/home/pelzerja/.local/lib/python3.8/site-packages/keras/backend.py\", line 5173, in binary_crossentropy\n        bce = target * tf.math.log(output + epsilon())\n\n    ValueError: Dimensions must be equal, but are 18 and 5 for '{{node binary_crossentropy/mul}} = Mul[T=DT_FLOAT](Cast, binary_crossentropy/Log)' with input shapes: [4,18,146,14,1], [4,5,37,4,128].\n"
     ]
    }
   ],
   "source": [
    "# Compile model.\n",
    "initial_learning_rate = 0.0001\n",
    "lr_schedule = tf.keras.optimizers.schedules.ExponentialDecay(\n",
    "    initial_learning_rate, decay_steps=100000, decay_rate=0.96, staircase=True\n",
    ")\n",
    "model.compile(\n",
    "    loss=\"binary_crossentropy\",\n",
    "    optimizer=tf.keras.optimizers.Adam(learning_rate=lr_schedule),\n",
    "    metrics=[\"acc\"],\n",
    ")\n",
    "\n",
    "# Define callbacks.\n",
    "checkpoint_cb = tf.keras.callbacks.ModelCheckpoint(\n",
    "    \"3d_image_classification.h5\", save_best_only=True\n",
    ")\n",
    "early_stopping_cb = tf.keras.callbacks.EarlyStopping(monitor=\"val_acc\", patience=15)\n",
    "\n",
    "# Train the model, doing validation at the end of each epoch\n",
    "epochs = 100\n",
    "model.fit(\n",
    "    tf_data_train,\n",
    "    validation_data=tf_data_test,\n",
    "    epochs=epochs,\n",
    "    shuffle=True,\n",
    "    verbose=2,\n",
    "    callbacks=[checkpoint_cb, early_stopping_cb],\n",
    ")\n"
   ]
  },
  {
   "cell_type": "code",
   "execution_count": 29,
   "metadata": {},
   "outputs": [],
   "source": [
    "#kernel = 3#(3, 3, 3, 1)\n",
    "#def FCN_model(input_shape=(20,200,16,1), len_classes=5, dropout_rate=0.2, kernel=3):\n",
    "#\n",
    "#    input = Input(shape=input_shape) #2D: (None, None, 3))\n",
    "#    x = Conv3D(filters=32, kernel_size=kernel, strides=1,padding=\"same\")(input) \n",
    "#    #  filters: Integer, the dimensionality of the output space (i.e. the number of output filters in the convolution).\n",
    "#    x = Dropout(dropout_rate)(x)\n",
    "#    x = BatchNormalization()(x)\n",
    "#    x = Activation('relu')(x)\n",
    "#\n",
    "#    # x = tf.keras.layers.MaxPooling2D()(x)\n",
    "#\n",
    "#    x = Conv3D(filters=64, kernel_size=kernel, strides=1,padding= \"same\")(x)\n",
    "#    x = Dropout(dropout_rate)(x)\n",
    "#    x = BatchNormalization()(x)\n",
    "#    x = Activation('relu')(x)\n",
    "#\n",
    "#    # x = tf.keras.layers.MaxPooling2D()(x)\n",
    "#\n",
    "#    x = Conv3D(filters=128, kernel_size=kernel, strides=2)(x)\n",
    "#    x = Dropout(dropout_rate)(x)\n",
    "#    x = BatchNormalization()(x)\n",
    "#    x = Activation('relu')(x)\n",
    "#\n",
    "#    # x = tf.keras.layers.MaxPooling2D()(x)\n",
    "#\n",
    "#    x = Conv3D(filters=256, kernel_size=kernel, strides=2)(x)\n",
    "#    x = Dropout(dropout_rate)(x)\n",
    "#    x = BatchNormalization()(x)\n",
    "#    x = Activation('relu')(x)\n",
    "#\n",
    "#    # x = tf.keras.layers.MaxPooling2D()(x)\n",
    "#\n",
    "#    # x = Conv3D(filters=512, kernel_size=kernel, strides=2)(x)\n",
    "#    # x = Dropout(dropout_rate)(x)\n",
    "#    # x = BatchNormalization()(x)\n",
    "#    # x = Activation('relu')(x)\n",
    "#\n",
    "#    # Uncomment the below line if you're using dense layers\n",
    "#    # x = tf.keras.layers.GlobalMaxPooling2D()(x)\n",
    "#\n",
    "#    # Fully connected layer 1\n",
    "#    # x = tf.keras.layers.Dropout(dropout_rate)(x)\n",
    "#    # x = tf.keras.layers.BatchNormalization()(x)\n",
    "#    # x = tf.keras.layers.Dense(units=64)(x)\n",
    "#    # x = tf.keras.layers.Activation('relu')(x)\n",
    "#\n",
    "#    # Fully connected layer 1\n",
    "#    x = Conv3D(filters=64, kernel_size=1, strides=1)(x)\n",
    "#    x = Dropout(dropout_rate)(x)\n",
    "#    x = BatchNormalization()(x)\n",
    "#    x = Activation('relu')(x)\n",
    "#\n",
    "#    # Fully connected layer 2\n",
    "#    # x = tf.keras.layers.Dropout(dropout_rate)(x)\n",
    "#    # x = tf.keras.layers.BatchNormalization()(x)\n",
    "#    # x = tf.keras.layers.Dense(units=len_classes)(x)\n",
    "#    # predictions = tf.keras.layers.Activation('softmax')(x)\n",
    "#\n",
    "#    # Fully connected layer 2\n",
    "#    x = Conv3D(filters=len_classes, kernel_size=1, strides=1)(x)\n",
    "#    x = Dropout(dropout_rate)(x)\n",
    "#    x = BatchNormalization()(x)\n",
    "#    #x = GlobalMaxPooling3D()(x) #TODO I PERSONALLY EXCLUDED - BACK IN?\n",
    "#    predictions = Activation('softmax')(x)\n",
    "#\n",
    "#    model = tensorflow.keras.Model(inputs=input, outputs=predictions)\n",
    "#    \n",
    "#    print(model.summary())\n",
    "#    print(f'Total number of layers: {len(model.layers)}')\n",
    "#\n",
    "#    return model\n",
    "#\n",
    "#model = FCN_model(input_shape=(20, 200, 16, 1), len_classes=5, dropout_rate=0.2)"
   ]
  },
  {
   "cell_type": "code",
   "execution_count": 30,
   "metadata": {},
   "outputs": [
    {
     "ename": "NameError",
     "evalue": "name 'FCN_model' is not defined",
     "output_type": "error",
     "traceback": [
      "\u001b[0;31m---------------------------------------------------------------------------\u001b[0m",
      "\u001b[0;31mNameError\u001b[0m                                 Traceback (most recent call last)",
      "\u001b[1;32m/home/pelzerja/Development/3D_FCN/work_with_data/test_3d_fcn.ipynb Cell 20'\u001b[0m in \u001b[0;36m<module>\u001b[0;34m\u001b[0m\n\u001b[0;32m----> <a href='vscode-notebook-cell:/home/pelzerja/Development/3D_FCN/work_with_data/test_3d_fcn.ipynb#ch0000019?line=0'>1</a>\u001b[0m model \u001b[39m=\u001b[39m FCN_model(input_shape\u001b[39m=\u001b[39m(\u001b[39m20\u001b[39m, \u001b[39m200\u001b[39m, \u001b[39m16\u001b[39m, \u001b[39m1\u001b[39m), len_classes\u001b[39m=\u001b[39m\u001b[39m5\u001b[39m, dropout_rate\u001b[39m=\u001b[39m\u001b[39m0.2\u001b[39m)\n",
      "\u001b[0;31mNameError\u001b[0m: name 'FCN_model' is not defined"
     ]
    }
   ],
   "source": []
  },
  {
   "cell_type": "code",
   "execution_count": null,
   "metadata": {},
   "outputs": [],
   "source": []
  }
 ],
 "metadata": {
  "interpreter": {
   "hash": "916dbcbb3f70747c44a77c7bcd40155683ae19c65e1c03b4aa3499c5328201f1"
  },
  "kernelspec": {
   "display_name": "Python 3.8.10 64-bit",
   "language": "python",
   "name": "python3"
  },
  "language_info": {
   "codemirror_mode": {
    "name": "ipython",
    "version": 3
   },
   "file_extension": ".py",
   "mimetype": "text/x-python",
   "name": "python",
   "nbconvert_exporter": "python",
   "pygments_lexer": "ipython3",
   "version": "3.8.10"
  },
  "orig_nbformat": 4
 },
 "nbformat": 4,
 "nbformat_minor": 2
}
