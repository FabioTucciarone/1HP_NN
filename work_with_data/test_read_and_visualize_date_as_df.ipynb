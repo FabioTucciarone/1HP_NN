{
 "cells": [
  {
   "cell_type": "code",
   "execution_count": null,
   "metadata": {},
   "outputs": [],
   "source": [
    "import os\n",
    "os.environ[\"CUDA_DEVICE_ORDER\"] = \"PCI_BUS_ID\"   #if like me you do not have a lot of memory in your GPU\n",
    "os.environ[\"CUDA_VISIBLE_DEVICES\"] = \"\" #then these two lines force keras to use your CPU\n",
    "import numpy as np\n",
    "import pandas as pd\n",
    "import matplotlib.pyplot as plt\n",
    "from mpl_toolkits.axes_grid1 import make_axes_locatable\n",
    "import h5py\n",
    "\n",
    "import matplotlib as mpl\n",
    "COLOR = 'white'\n",
    "mpl.rcParams['text.color'] = COLOR\n",
    "mpl.rcParams['axes.labelcolor'] = COLOR\n",
    "mpl.rcParams['xtick.color'] = COLOR\n",
    "mpl.rcParams['ytick.color'] = COLOR\n",
    "from tqdm.auto import tqdm"
   ]
  },
  {
   "cell_type": "code",
   "execution_count": null,
   "metadata": {},
   "outputs": [],
   "source": [
    "def read_data_df(path_dataset):\n",
    "    time_init =     \"Time:  0.00000E+00 y\"\n",
    "    time_final =    \"Time:  5.00000E+00 y\"\n",
    "    names_of_runs = []\n",
    "    names_of_properties = []\n",
    "    data = []\n",
    "\n",
    "    for file in tqdm(list(os.listdir(path_dataset))):\n",
    "        try:\n",
    "            path_data = os.path.join(path_dataset,file)\n",
    "            if not os.path.isdir(path_data):\n",
    "                continue\n",
    "            #print(file)\n",
    "            names_of_runs.append(file)\n",
    "            filename = os.path.join(path_data,\"pflotran.h5\") \n",
    "            interim_array = []\n",
    "            with h5py.File(filename, \"r\") as f:\n",
    "                for key, value in f[time_final].items():\n",
    "                    if key=='Liquid_Pressure [Pa]':\n",
    "                        interim_array.append(np.array(f[time_init][\"Liquid_Pressure [Pa]\"]))\n",
    "                    else:\n",
    "                        interim_array.append(np.array(value))\n",
    "                names_of_properties = list(f[time_final].keys())\n",
    "            data.append(interim_array)\n",
    "\n",
    "        except Exception as e:\n",
    "            tqdm.write(f\"lololololololoo: {e}\")\n",
    "    \n",
    "    df = pd.DataFrame(data=data, index=names_of_runs, columns=names_of_properties)\n",
    "\n",
    "    return df"
   ]
  },
  {
   "cell_type": "code",
   "execution_count": null,
   "metadata": {},
   "outputs": [],
   "source": [
    "def aligned_colorbar(*args,**kwargs):\n",
    "    cax = make_axes_locatable(plt.gca()).append_axes(\"right\",size= 0.3,pad= 0.05)\n",
    "    plt.colorbar(*args,cax=cax,**kwargs)\n",
    "    \n",
    "def plot_sample_df(df, run_id, view=\"top\"):\n",
    "    n_dims = len(df.columns)\n",
    "    fig, axes = plt.subplots(n_dims+1,1,sharex=True,figsize=(20,3*(n_dims+1)))\n",
    "    plt.figure(figsize= (20,3*(n_dims+1)))\n",
    "    for column, (i) in zip(df.columns, range(n_dims)):\n",
    "        plt.sca(axes[i])\n",
    "        field = df.at[run_id, column]\n",
    "        if len(field.shape) != 3:\n",
    "            # no 3D data\n",
    "            continue\n",
    "        index = column.find(' [')\n",
    "        title = column\n",
    "        if index != -1:\n",
    "            title = column[:index]\n",
    "        plt.title(title)\n",
    "        if view==\"topish\":\n",
    "            plt.imshow(field[:,:,-3])\n",
    "            plt.xlabel(\"y\")\n",
    "            plt.ylabel(\"x\")\n",
    "        elif view==\"side\":\n",
    "            plt.imshow(field[11,:,::-1].T)\n",
    "            plt.xlabel(\"y\")\n",
    "            plt.ylabel(\"z\")\n",
    "        elif view==\"side_hp\":\n",
    "            plt.imshow(field[8,:,::-1].T)\n",
    "            plt.xlabel(\"y\")\n",
    "            plt.ylabel(\"z\")\n",
    "        elif view==\"top_hp\":\n",
    "            plt.imshow(field[:,:,8])\n",
    "            plt.xlabel(\"y\")\n",
    "            plt.ylabel(\"x\")\n",
    "        elif view==\"top\":\n",
    "            plt.imshow(field[:,:,-1])\n",
    "            plt.xlabel(\"y\")\n",
    "            plt.ylabel(\"x\")\n",
    "        aligned_colorbar(label=column)\n",
    "        \n",
    "    #streamlines\n",
    "    plt.sca(axes[i+1])\n",
    "    plt.title(\"Streamlines\")\n",
    "    if view==\"side\":\n",
    "        Z, Y = np.mgrid[0:len(field[0,0,:]),0:len(field[0,:,0])]\n",
    "        U = df.at[run_id,'Liquid Y-Velocity [m_per_y]'][11,:,::-1]\n",
    "        V = df.at[run_id,'Liquid Z-Velocity [m_per_y]'][11,:,::-1]\n",
    "        plt.streamplot(Y, Z, U.T, V.T, density=[2, 0.7])\n",
    "        plt.xlabel(\"y\")\n",
    "        plt.ylabel(\"z\")\n",
    "    elif view==\"side_hp\":\n",
    "        Z, Y = np.mgrid[0:len(field[0,0,:]),0:len(field[0,:,0])]\n",
    "        U = df.at[run_id,'Liquid Y-Velocity [m_per_y]'][8,:,::-1]\n",
    "        V = df.at[run_id,'Liquid Z-Velocity [m_per_y]'][8,:,::-1]\n",
    "        plt.streamplot(Y, Z, U.T, V.T, density=[2, 0.7])\n",
    "        plt.xlabel(\"y\")\n",
    "        plt.ylabel(\"z\")\n",
    "    elif view==\"top_hp\":\n",
    "        X, Y = np.mgrid[0:len(field[:,0,0]),0:len(field[0,:,0])]\n",
    "        U = df.at[run_id,'Liquid Y-Velocity [m_per_y]'][:,:,8]\n",
    "        V = df.at[run_id,'Liquid X-Velocity [m_per_y]'][:,:,8]\n",
    "        plt.streamplot(Y, X, U, V, density=[2, 0.7])\n",
    "        plt.xlabel(\"y\")\n",
    "        plt.ylabel(\"x\")\n",
    "    elif view==\"top\":\n",
    "        X, Y = np.mgrid[0:len(field[:,0,0]),0:len(field[0,:,0])]\n",
    "        U = df.at[run_id,'Liquid Y-Velocity [m_per_y]'][:,:,-1]\n",
    "        V = df.at[run_id,'Liquid X-Velocity [m_per_y]'][:,:,-1]\n",
    "        plt.streamplot(Y, X, U, V, density=[2, 0.7])\n",
    "        plt.xlabel(\"y\")\n",
    "        plt.ylabel(\"x\")\n",
    "    elif view==\"topish\":\n",
    "        X, Y = np.mgrid[0:len(field[:,0,0]),0:len(field[0,:,0])]\n",
    "        U = df.at[run_id,'Liquid Y-Velocity [m_per_y]'][:,:,-3]\n",
    "        V = df.at[run_id,'Liquid X-Velocity [m_per_y]'][:,:,-3]\n",
    "        plt.streamplot(Y, X, U, V, density=[2, 0.7])\n",
    "        plt.xlabel(\"y\")\n",
    "        plt.ylabel(\"x\")\n",
    "        \n",
    "    plt.show()"
   ]
  },
  {
   "cell_type": "code",
   "execution_count": null,
   "metadata": {},
   "outputs": [],
   "source": [
    "path_dir = \"/home/pelzerja/Development/simulation_groundtruth_pflotran/Phd_simulation_groundtruth/approach2_dataset_generation_simplified\"\n",
    "dataset_name = \"dataset_HDF5_test\" #dataset_HDF5_uniformly_distributed_data\n",
    "path_dataset = os.path.join(path_dir, dataset_name)\n",
    "\n",
    "df = read_data_df(path_dataset)"
   ]
  },
  {
   "cell_type": "markdown",
   "metadata": {},
   "source": [
    "**Preprocessing**"
   ]
  },
  {
   "cell_type": "code",
   "execution_count": null,
   "metadata": {},
   "outputs": [],
   "source": [
    "def data_cleaning_df(df):\n",
    "    for label, content in df.items():\n",
    "        for index in range(len(content)):\n",
    "            content[index] = content[index][1:-1,1:-3,1:-1]\n",
    "    return df\n",
    "\n",
    "df = data_cleaning_df(df)"
   ]
  },
  {
   "cell_type": "code",
   "execution_count": 1,
   "metadata": {},
   "outputs": [
    {
     "name": "stderr",
     "output_type": "stream",
     "text": [
      "100%|██████████| 7/7 [00:00<00:00, 157.06it/s]\n"
     ]
    }
   ],
   "source": [
    "# more compact/ put into py-file:\n",
    "import read_and_visualize_data as rnv\n",
    "\n",
    "df = rnv.read_and_visualize_data_as_df(\"dataset_HDF5_test\", False) #dataset_HDF5_uniformly_distributed_data"
   ]
  }
 ],
 "metadata": {
  "interpreter": {
   "hash": "916dbcbb3f70747c44a77c7bcd40155683ae19c65e1c03b4aa3499c5328201f1"
  },
  "kernelspec": {
   "display_name": "Python 3.8.10 64-bit",
   "language": "python",
   "name": "python3"
  },
  "language_info": {
   "codemirror_mode": {
    "name": "ipython",
    "version": 3
   },
   "file_extension": ".py",
   "mimetype": "text/x-python",
   "name": "python",
   "nbconvert_exporter": "python",
   "pygments_lexer": "ipython3",
   "version": "3.8.10"
  },
  "orig_nbformat": 4
 },
 "nbformat": 4,
 "nbformat_minor": 2
}
