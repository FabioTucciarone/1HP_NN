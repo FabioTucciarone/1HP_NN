{
 "cells": [
  {
   "cell_type": "code",
   "execution_count": 8,
   "metadata": {},
   "outputs": [],
   "source": [
    "from data.dataset import GWF_HP_Dataset\n",
    "from data.dataloader import DataLoader\n",
    "from data.transforms import NormalizeTransform, ComposeTransform, CutOffEdgesTransform\n",
    "from visualization.visualize_data import plot_datapoint\n",
    "from data.utils_save import save_pickle\n",
    "\n",
    "import os\n",
    "import numpy as np\n",
    "import pandas as pd\n",
    "import matplotlib as mpl\n",
    "import matplotlib.pyplot as plt\n",
    "from mpl_toolkits.axes_grid1 import make_axes_locatable\n",
    "import h5py\n",
    "from tqdm.auto import tqdm\n",
    "\n",
    "COLOR = 'white'\n",
    "mpl.rcParams['text.color'] = COLOR\n",
    "mpl.rcParams['axes.labelcolor'] = COLOR\n",
    "mpl.rcParams['xtick.color'] = COLOR\n",
    "mpl.rcParams['ytick.color'] = COLOR\n",
    "\n",
    "%load_ext autoreload\n",
    "%autoreload 2"
   ]
  },
  {
   "cell_type": "code",
   "execution_count": 9,
   "metadata": {},
   "outputs": [],
   "source": [
    "# TODO not necessary to cut of edges - exponential behaviour at edges ?! fix it otherwise!\n",
    "#transforms = ComposeTransform([NormalizeTransform(), CutOffEdgesTransform()])\n",
    "\n",
    "# DATASET = GWF_HP_Dataset(dataset_name =\"dataset_HDF5_testtest\", transform = NormalizeTransform(), \n",
    "#                  input_vars=[\"Liquid Y-Velocity [m_per_y]\", \"Liquid Z-Velocity [m_per_y]\", \n",
    "#                  \"Liquid_Pressure [Pa]\", \"Material_ID\", \"Temperature [C]\"],\n",
    "#                  output_vars=[\"Liquid_Pressure [Pa]\", \"Temperature [C]\"])\n",
    "# DATALOADER = DataLoader(DATASET, batch_size=2, shuffle=True, drop_last=False)\n",
    "# \n",
    "# print(f\"Dataset size: {len(DATASET)}\")\n",
    "# print(f\"Dataloader size: {len(DATALOADER)}\")\n",
    "# \n",
    "# save_pickle({\"dataset\": DATASET, \"dataloader\" : DATALOADER}, \"dataset_HDF5_testtest_and_dataloader.p\")\n",
    "# \n",
    "# DATASET[0]['x'][0,:,:,:].shape\n",
    "# plot_datapoint(DATASET, run_id=1, view=\"side_hp\")"
   ]
  },
  {
   "cell_type": "markdown",
   "metadata": {},
   "source": [
    "# TODO Data Augmentation"
   ]
  },
  {
   "cell_type": "code",
   "execution_count": 10,
   "metadata": {},
   "outputs": [],
   "source": [
    "# TODO:  data augmentation"
   ]
  },
  {
   "cell_type": "markdown",
   "metadata": {},
   "source": [
    "# Splitting Data"
   ]
  },
  {
   "cell_type": "code",
   "execution_count": 11,
   "metadata": {},
   "outputs": [
    {
     "name": "stdout",
     "output_type": "stream",
     "text": [
      "Directory of currently used dataset is: /home/pelzerja/Development/simulation_groundtruth_pflotran/Phd_simulation_groundtruth/approach2_dataset_generation_simplified/dataset_HDF5_testtest\n",
      "Directory of currently used dataset is: /home/pelzerja/Development/simulation_groundtruth_pflotran/Phd_simulation_groundtruth/approach2_dataset_generation_simplified/dataset_HDF5_testtest\n",
      "Directory of currently used dataset is: /home/pelzerja/Development/simulation_groundtruth_pflotran/Phd_simulation_groundtruth/approach2_dataset_generation_simplified/dataset_HDF5_testtest\n"
     ]
    }
   ],
   "source": [
    "# split dataset into train, val, test\n",
    "datasets = {}\n",
    "for mode in ['train', 'val', 'test']:\n",
    "    temp_dataset = GWF_HP_Dataset(\n",
    "        dataset_name =\"dataset_HDF5_testtest\", transform = NormalizeTransform(), \n",
    "        input_vars=[\"Liquid Y-Velocity [m_per_y]\", \"Liquid Z-Velocity [m_per_y]\", \n",
    "        \"Liquid_Pressure [Pa]\", \"Material_ID\", \"Temperature [C]\"],\n",
    "        output_vars=[\"Liquid_Pressure [Pa]\", \"Temperature [C]\"],\n",
    "        mode=mode, split={'train': 0.6, 'val': 0.2, 'test': 0.2}\n",
    "    )\n",
    "    datasets[mode] = temp_dataset\n",
    "\n",
    "# Create a dataloader for each split.\n",
    "dataloaders = {}\n",
    "for mode in ['train', 'val', 'test']:\n",
    "    temp_dataloader = DataLoader(\n",
    "        dataset=datasets[mode],\n",
    "        batch_size=2,\n",
    "        shuffle=True,\n",
    "        drop_last=False,\n",
    "    )\n",
    "    dataloaders[mode] = temp_dataloader"
   ]
  },
  {
   "cell_type": "markdown",
   "metadata": {},
   "source": [
    "## test splitting data"
   ]
  },
  {
   "cell_type": "code",
   "execution_count": 13,
   "metadata": {},
   "outputs": [],
   "source": [
    "# print(datasets[\"train\"].runs)\n",
    "# print(datasets[\"train\"][0].keys())\n",
    "# print(len(dataloaders[\"train\"]))\n",
    "# \n",
    "# for batch in dataloaders[\"train\"]:\n",
    "#     print(batch['x'].shape)\n",
    "#     print(batch['y'].shape)\n",
    "#     break"
   ]
  },
  {
   "cell_type": "markdown",
   "metadata": {},
   "source": [
    "## test visualization of data"
   ]
  },
  {
   "cell_type": "code",
   "execution_count": 14,
   "metadata": {},
   "outputs": [],
   "source": [
    "# plot_datapoint(datasets[\"train\"], run_id=0, view=\"side_hp\")\n"
   ]
  },
  {
   "cell_type": "markdown",
   "metadata": {},
   "source": [
    "# simplest test NN (linear)"
   ]
  }
 ],
 "metadata": {
  "interpreter": {
   "hash": "916dbcbb3f70747c44a77c7bcd40155683ae19c65e1c03b4aa3499c5328201f1"
  },
  "kernelspec": {
   "display_name": "Python 3.8.10 64-bit",
   "language": "python",
   "name": "python3"
  },
  "language_info": {
   "codemirror_mode": {
    "name": "ipython",
    "version": 3
   },
   "file_extension": ".py",
   "mimetype": "text/x-python",
   "name": "python",
   "nbconvert_exporter": "python",
   "pygments_lexer": "ipython3",
   "version": "3.8.10"
  },
  "orig_nbformat": 4
 },
 "nbformat": 4,
 "nbformat_minor": 2
}
