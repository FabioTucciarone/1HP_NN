{
 "cells": [
  {
   "cell_type": "code",
   "execution_count": 1,
   "metadata": {},
   "outputs": [],
   "source": [
    "from data.dataset import DatasetSimulationData\n",
    "from data.dataloader import DataLoader\n",
    "from data.transforms import NormalizeTransform, ComposeTransform, ReduceTo2DTransform, PowerOfTwoTransform, ToTensorTransform\n",
    "from visualization.visualize_data import plot_datapoint\n",
    "from data.utils import save_pickle\n",
    "from networks.unet_leiterrl import TurbNetG, UNet, weights_init\n",
    "\n",
    "import os\n",
    "import numpy as np\n",
    "import pandas as pd\n",
    "import matplotlib as mpl\n",
    "import matplotlib.pyplot as plt\n",
    "from mpl_toolkits.axes_grid1 import make_axes_locatable\n",
    "import h5py\n",
    "from tqdm.auto import tqdm\n",
    "from torchvision.utils import make_grid\n",
    "\n",
    "COLOR = 'white'\n",
    "mpl.rcParams['text.color'] = COLOR\n",
    "mpl.rcParams['axes.labelcolor'] = COLOR\n",
    "mpl.rcParams['xtick.color'] = COLOR\n",
    "mpl.rcParams['ytick.color'] = COLOR\n",
    "\n",
    "from networks.unet_leiterrl import weights_init\n",
    "\n",
    "from torch.optim import Adam\n",
    "from torch.utils.tensorboard import SummaryWriter\n",
    "import torch.nn as nn\n",
    "import torch.nn.functional as F\n",
    "from visualization.visualize_data import plot_data_inner\n"
   ]
  },
  {
   "cell_type": "code",
   "execution_count": 2,
   "metadata": {},
   "outputs": [],
   "source": [
    "%reload_ext autoreload\n",
    "%autoreload 2"
   ]
  },
  {
   "cell_type": "code",
   "execution_count": 4,
   "metadata": {},
   "outputs": [],
   "source": [
    "# TODO not necessary to cut of edges - exponential behaviour at edges ?! fix it otherwise!\n",
    "#transforms = ComposeTransform([NormalizeTransform(), CutOffEdgesTransform()])\n",
    "\n",
    "# DATASET = GWF_HP_Dataset(dataset_name =\"dataset_HDF5_testtest\", transform = NormalizeTransform(), \n",
    "#                  input_vars=[\"Liquid Y-Velocity [m_per_y]\", \"Liquid Z-Velocity [m_per_y]\", \n",
    "#                  \"Liquid_Pressure [Pa]\", \"Material_ID\", \"Temperature [C]\"],\n",
    "#                  output_vars=[\"Liquid_Pressure [Pa]\", \"Temperature [C]\"])\n",
    "# DATALOADER = DataLoader(DATASET, batch_size=2, shuffle=True, drop_last=False)\n",
    "# \n",
    "# print(f\"Dataset size: {len(DATASET)}\")\n",
    "# print(f\"Dataloader size: {len(DATALOADER)}\")\n",
    "# \n",
    "# save_pickle({\"dataset\": DATASET, \"dataloader\" : DATALOADER}, \"dataset_HDF5_testtest_and_dataloader.p\")\n",
    "# \n",
    "# DATASET[0]['x'][0,:,:,:].shape\n",
    "# plot_datapoint(DATASET, run_id=1, view=\"side_hp\")"
   ]
  },
  {
   "cell_type": "markdown",
   "metadata": {},
   "source": [
    "# Splitting Data"
   ]
  },
  {
   "cell_type": "code",
   "execution_count": 5,
   "metadata": {},
   "outputs": [],
   "source": [
    "# # split dataset into train, val, test\n",
    "# datasets = {}\n",
    "# for mode in ['train', 'val', 'test']:\n",
    "#     temp_dataset = GWF_HP_Dataset(\n",
    "#         dataset_name =\"dataset_HDF5_testtest\", transform = NormalizeTransform(), \n",
    "#         input_vars=[\"Liquid Y-Velocity [m_per_y]\", \"Liquid Z-Velocity [m_per_y]\", \n",
    "#         \"Liquid_Pressure [Pa]\", \"Material_ID\", \"Temperature [C]\"],\n",
    "#         output_vars=[\"Liquid_Pressure [Pa]\", \"Temperature [C]\"],\n",
    "#         mode=mode, split={'train': 0.6, 'val': 0.2, 'test': 0.2}\n",
    "#     )\n",
    "#     datasets[mode] = temp_dataset\n",
    "# \n",
    "# # Create a dataloader for each split.\n",
    "# dataloaders = {}\n",
    "# for mode in ['train', 'val', 'test']:\n",
    "#     temp_dataloader = DataLoader(\n",
    "#         dataset=datasets[mode],\n",
    "#         batch_size=2,\n",
    "#         shuffle=True,\n",
    "#         drop_last=False,\n",
    "#     )\n",
    "#     dataloaders[mode] = temp_dataloader"
   ]
  },
  {
   "cell_type": "markdown",
   "metadata": {},
   "source": [
    "## test splitting data"
   ]
  },
  {
   "cell_type": "code",
   "execution_count": 6,
   "metadata": {},
   "outputs": [],
   "source": [
    "# print(datasets[\"train\"].runs)\n",
    "# print(datasets[\"train\"][0].keys())\n",
    "# print(len(dataloaders[\"train\"]))\n",
    "# \n",
    "# for batch in dataloaders[\"train\"]:\n",
    "#     print(batch['x'].shape)\n",
    "#     print(batch['y'].shape)\n",
    "#     break"
   ]
  },
  {
   "cell_type": "markdown",
   "metadata": {},
   "source": [
    "# test TurbNetG (from Rapha, from somebody else) 2D testcase on my data"
   ]
  },
  {
   "cell_type": "code",
   "execution_count": 10,
   "metadata": {},
   "outputs": [
    {
     "name": "stderr",
     "output_type": "stream",
     "text": [
      "epochs:   0%|          | 0/1 [00:00<?, ?it/s]\n"
     ]
    },
    {
     "ename": "RuntimeError",
     "evalue": "Given groups=1, weight of size [32, 5, 3, 3], expected input[1, 20, 150, 16] to have 5 channels, but got 20 channels instead",
     "output_type": "error",
     "traceback": [
      "\u001b[0;31m---------------------------------------------------------------------------\u001b[0m",
      "\u001b[0;31mRuntimeError\u001b[0m                              Traceback (most recent call last)",
      "\u001b[1;32m/home/pelzerja/Development/3D_FCN/test_visualise_fcnn_i2dl.ipynb Cell 9\u001b[0m in \u001b[0;36m<module>\u001b[0;34m\u001b[0m\n\u001b[1;32m     <a href='vscode-notebook-cell:/home/pelzerja/Development/3D_FCN/test_visualise_fcnn_i2dl.ipynb#X11sZmlsZQ%3D%3D?line=19'>20</a>\u001b[0m datasets_2D, dataloaders_2D \u001b[39m=\u001b[39m lp\u001b[39m.\u001b[39minit_data(reduce_to_2D\u001b[39m=\u001b[39m\u001b[39mTrue\u001b[39;00m, overfit\u001b[39m=\u001b[39m\u001b[39mTrue\u001b[39;00m)\n\u001b[1;32m     <a href='vscode-notebook-cell:/home/pelzerja/Development/3D_FCN/test_visualise_fcnn_i2dl.ipynb#X11sZmlsZQ%3D%3D?line=20'>21</a>\u001b[0m \u001b[39m# train model\u001b[39;00m\n\u001b[0;32m---> <a href='vscode-notebook-cell:/home/pelzerja/Development/3D_FCN/test_visualise_fcnn_i2dl.ipynb#X11sZmlsZQ%3D%3D?line=21'>22</a>\u001b[0m lp\u001b[39m.\u001b[39;49mtrain_model(unet_model, dataloaders_2D, loss_fn, n_epochs, lr)\n",
      "File \u001b[0;32m~/Development/3D_FCN/learn_process.py:151\u001b[0m, in \u001b[0;36mtrain_model\u001b[0;34m(model, dataloaders, loss_fn, n_epochs, lr, name_folder, debugging)\u001b[0m\n\u001b[1;32m    148\u001b[0m model\u001b[39m.\u001b[39mzero_grad()\n\u001b[1;32m    149\u001b[0m optimizer\u001b[39m.\u001b[39mzero_grad()\n\u001b[0;32m--> 151\u001b[0m y_out \u001b[39m=\u001b[39m model(x) \u001b[39m# dimensions: (batch-datapoint_id, channel, x, y)\u001b[39;00m\n\u001b[1;32m    152\u001b[0m mse_loss \u001b[39m=\u001b[39m loss_fn(y_out, y)\n\u001b[1;32m    153\u001b[0m loss \u001b[39m=\u001b[39m mse_loss\n",
      "File \u001b[0;32m/usr/local/lib/python3.8/dist-packages/torch/nn/modules/module.py:1110\u001b[0m, in \u001b[0;36mModule._call_impl\u001b[0;34m(self, *input, **kwargs)\u001b[0m\n\u001b[1;32m   1106\u001b[0m \u001b[39m# If we don't have any hooks, we want to skip the rest of the logic in\u001b[39;00m\n\u001b[1;32m   1107\u001b[0m \u001b[39m# this function, and just call forward.\u001b[39;00m\n\u001b[1;32m   1108\u001b[0m \u001b[39mif\u001b[39;00m \u001b[39mnot\u001b[39;00m (\u001b[39mself\u001b[39m\u001b[39m.\u001b[39m_backward_hooks \u001b[39mor\u001b[39;00m \u001b[39mself\u001b[39m\u001b[39m.\u001b[39m_forward_hooks \u001b[39mor\u001b[39;00m \u001b[39mself\u001b[39m\u001b[39m.\u001b[39m_forward_pre_hooks \u001b[39mor\u001b[39;00m _global_backward_hooks\n\u001b[1;32m   1109\u001b[0m         \u001b[39mor\u001b[39;00m _global_forward_hooks \u001b[39mor\u001b[39;00m _global_forward_pre_hooks):\n\u001b[0;32m-> 1110\u001b[0m     \u001b[39mreturn\u001b[39;00m forward_call(\u001b[39m*\u001b[39;49m\u001b[39minput\u001b[39;49m, \u001b[39m*\u001b[39;49m\u001b[39m*\u001b[39;49mkwargs)\n\u001b[1;32m   1111\u001b[0m \u001b[39m# Do not call functions when jit is used\u001b[39;00m\n\u001b[1;32m   1112\u001b[0m full_backward_hooks, non_full_backward_hooks \u001b[39m=\u001b[39m [], []\n",
      "File \u001b[0;32m~/Development/3D_FCN/networks/unet_leiterrl.py:35\u001b[0m, in \u001b[0;36mUNet.forward\u001b[0;34m(self, x)\u001b[0m\n\u001b[1;32m     34\u001b[0m \u001b[39mdef\u001b[39;00m \u001b[39mforward\u001b[39m(\u001b[39mself\u001b[39m, x):\n\u001b[0;32m---> 35\u001b[0m     enc1 \u001b[39m=\u001b[39m \u001b[39mself\u001b[39;49m\u001b[39m.\u001b[39;49mencoder1(x)\n\u001b[1;32m     36\u001b[0m     enc2 \u001b[39m=\u001b[39m \u001b[39mself\u001b[39m\u001b[39m.\u001b[39mencoder2(\u001b[39mself\u001b[39m\u001b[39m.\u001b[39mpool1(enc1))\n\u001b[1;32m     37\u001b[0m     enc3 \u001b[39m=\u001b[39m \u001b[39mself\u001b[39m\u001b[39m.\u001b[39mencoder3(\u001b[39mself\u001b[39m\u001b[39m.\u001b[39mpool2(enc2))\n",
      "File \u001b[0;32m/usr/local/lib/python3.8/dist-packages/torch/nn/modules/module.py:1110\u001b[0m, in \u001b[0;36mModule._call_impl\u001b[0;34m(self, *input, **kwargs)\u001b[0m\n\u001b[1;32m   1106\u001b[0m \u001b[39m# If we don't have any hooks, we want to skip the rest of the logic in\u001b[39;00m\n\u001b[1;32m   1107\u001b[0m \u001b[39m# this function, and just call forward.\u001b[39;00m\n\u001b[1;32m   1108\u001b[0m \u001b[39mif\u001b[39;00m \u001b[39mnot\u001b[39;00m (\u001b[39mself\u001b[39m\u001b[39m.\u001b[39m_backward_hooks \u001b[39mor\u001b[39;00m \u001b[39mself\u001b[39m\u001b[39m.\u001b[39m_forward_hooks \u001b[39mor\u001b[39;00m \u001b[39mself\u001b[39m\u001b[39m.\u001b[39m_forward_pre_hooks \u001b[39mor\u001b[39;00m _global_backward_hooks\n\u001b[1;32m   1109\u001b[0m         \u001b[39mor\u001b[39;00m _global_forward_hooks \u001b[39mor\u001b[39;00m _global_forward_pre_hooks):\n\u001b[0;32m-> 1110\u001b[0m     \u001b[39mreturn\u001b[39;00m forward_call(\u001b[39m*\u001b[39;49m\u001b[39minput\u001b[39;49m, \u001b[39m*\u001b[39;49m\u001b[39m*\u001b[39;49mkwargs)\n\u001b[1;32m   1111\u001b[0m \u001b[39m# Do not call functions when jit is used\u001b[39;00m\n\u001b[1;32m   1112\u001b[0m full_backward_hooks, non_full_backward_hooks \u001b[39m=\u001b[39m [], []\n",
      "File \u001b[0;32m/usr/local/lib/python3.8/dist-packages/torch/nn/modules/container.py:141\u001b[0m, in \u001b[0;36mSequential.forward\u001b[0;34m(self, input)\u001b[0m\n\u001b[1;32m    139\u001b[0m \u001b[39mdef\u001b[39;00m \u001b[39mforward\u001b[39m(\u001b[39mself\u001b[39m, \u001b[39minput\u001b[39m):\n\u001b[1;32m    140\u001b[0m     \u001b[39mfor\u001b[39;00m module \u001b[39min\u001b[39;00m \u001b[39mself\u001b[39m:\n\u001b[0;32m--> 141\u001b[0m         \u001b[39minput\u001b[39m \u001b[39m=\u001b[39m module(\u001b[39minput\u001b[39;49m)\n\u001b[1;32m    142\u001b[0m     \u001b[39mreturn\u001b[39;00m \u001b[39minput\u001b[39m\n",
      "File \u001b[0;32m/usr/local/lib/python3.8/dist-packages/torch/nn/modules/module.py:1110\u001b[0m, in \u001b[0;36mModule._call_impl\u001b[0;34m(self, *input, **kwargs)\u001b[0m\n\u001b[1;32m   1106\u001b[0m \u001b[39m# If we don't have any hooks, we want to skip the rest of the logic in\u001b[39;00m\n\u001b[1;32m   1107\u001b[0m \u001b[39m# this function, and just call forward.\u001b[39;00m\n\u001b[1;32m   1108\u001b[0m \u001b[39mif\u001b[39;00m \u001b[39mnot\u001b[39;00m (\u001b[39mself\u001b[39m\u001b[39m.\u001b[39m_backward_hooks \u001b[39mor\u001b[39;00m \u001b[39mself\u001b[39m\u001b[39m.\u001b[39m_forward_hooks \u001b[39mor\u001b[39;00m \u001b[39mself\u001b[39m\u001b[39m.\u001b[39m_forward_pre_hooks \u001b[39mor\u001b[39;00m _global_backward_hooks\n\u001b[1;32m   1109\u001b[0m         \u001b[39mor\u001b[39;00m _global_forward_hooks \u001b[39mor\u001b[39;00m _global_forward_pre_hooks):\n\u001b[0;32m-> 1110\u001b[0m     \u001b[39mreturn\u001b[39;00m forward_call(\u001b[39m*\u001b[39;49m\u001b[39minput\u001b[39;49m, \u001b[39m*\u001b[39;49m\u001b[39m*\u001b[39;49mkwargs)\n\u001b[1;32m   1111\u001b[0m \u001b[39m# Do not call functions when jit is used\u001b[39;00m\n\u001b[1;32m   1112\u001b[0m full_backward_hooks, non_full_backward_hooks \u001b[39m=\u001b[39m [], []\n",
      "File \u001b[0;32m/usr/local/lib/python3.8/dist-packages/torch/nn/modules/conv.py:447\u001b[0m, in \u001b[0;36mConv2d.forward\u001b[0;34m(self, input)\u001b[0m\n\u001b[1;32m    446\u001b[0m \u001b[39mdef\u001b[39;00m \u001b[39mforward\u001b[39m(\u001b[39mself\u001b[39m, \u001b[39minput\u001b[39m: Tensor) \u001b[39m-\u001b[39m\u001b[39m>\u001b[39m Tensor:\n\u001b[0;32m--> 447\u001b[0m     \u001b[39mreturn\u001b[39;00m \u001b[39mself\u001b[39;49m\u001b[39m.\u001b[39;49m_conv_forward(\u001b[39minput\u001b[39;49m, \u001b[39mself\u001b[39;49m\u001b[39m.\u001b[39;49mweight, \u001b[39mself\u001b[39;49m\u001b[39m.\u001b[39;49mbias)\n",
      "File \u001b[0;32m/usr/local/lib/python3.8/dist-packages/torch/nn/modules/conv.py:443\u001b[0m, in \u001b[0;36mConv2d._conv_forward\u001b[0;34m(self, input, weight, bias)\u001b[0m\n\u001b[1;32m    439\u001b[0m \u001b[39mif\u001b[39;00m \u001b[39mself\u001b[39m\u001b[39m.\u001b[39mpadding_mode \u001b[39m!=\u001b[39m \u001b[39m'\u001b[39m\u001b[39mzeros\u001b[39m\u001b[39m'\u001b[39m:\n\u001b[1;32m    440\u001b[0m     \u001b[39mreturn\u001b[39;00m F\u001b[39m.\u001b[39mconv2d(F\u001b[39m.\u001b[39mpad(\u001b[39minput\u001b[39m, \u001b[39mself\u001b[39m\u001b[39m.\u001b[39m_reversed_padding_repeated_twice, mode\u001b[39m=\u001b[39m\u001b[39mself\u001b[39m\u001b[39m.\u001b[39mpadding_mode),\n\u001b[1;32m    441\u001b[0m                     weight, bias, \u001b[39mself\u001b[39m\u001b[39m.\u001b[39mstride,\n\u001b[1;32m    442\u001b[0m                     _pair(\u001b[39m0\u001b[39m), \u001b[39mself\u001b[39m\u001b[39m.\u001b[39mdilation, \u001b[39mself\u001b[39m\u001b[39m.\u001b[39mgroups)\n\u001b[0;32m--> 443\u001b[0m \u001b[39mreturn\u001b[39;00m F\u001b[39m.\u001b[39;49mconv2d(\u001b[39minput\u001b[39;49m, weight, bias, \u001b[39mself\u001b[39;49m\u001b[39m.\u001b[39;49mstride,\n\u001b[1;32m    444\u001b[0m                 \u001b[39mself\u001b[39;49m\u001b[39m.\u001b[39;49mpadding, \u001b[39mself\u001b[39;49m\u001b[39m.\u001b[39;49mdilation, \u001b[39mself\u001b[39;49m\u001b[39m.\u001b[39;49mgroups)\n",
      "\u001b[0;31mRuntimeError\u001b[0m: Given groups=1, weight of size [32, 5, 3, 3], expected input[1, 20, 150, 16] to have 5 channels, but got 20 channels instead"
     ]
    }
   ],
   "source": [
    "from torch.nn import MSELoss\n",
    "\n",
    "import learn_process as lp\n",
    "from networks.unet_leiterrl import TurbNetG, UNet\n",
    "from networks.dummy_network import DummyNet\n",
    "\n",
    "\n",
    "# parameters of model and training\n",
    "loss_fn = MSELoss()\n",
    "n_epochs = 1 #60000\n",
    "lr=0.0004 #0.0004\n",
    "\n",
    "#model = TurbNetG(channelExponent=4, in_channels=4, out_channels=2)\n",
    "unet_model = UNet(in_channels=5, out_channels=1).float()\n",
    "# TODO too many in channels for unet?\n",
    "fc_model = DummyNet().float()\n",
    "# model.to(device)\n",
    "\n",
    "# init data\n",
    "datasets_2D, dataloaders_2D = lp.init_data(reduce_to_2D=True, overfit=True)\n",
    "# train model\n",
    "lp.train_model(unet_model, dataloaders_2D, loss_fn, n_epochs, lr)"
   ]
  },
  {
   "cell_type": "markdown",
   "metadata": {},
   "source": [
    "## test visualization and normalization and reverse of data"
   ]
  },
  {
   "cell_type": "code",
   "execution_count": 3,
   "metadata": {},
   "outputs": [],
   "source": [
    "# create and directly split dataset into train, val, test\n",
    "def init_data(reduce_to_2D = True, overfit = False, normalize=True, dataset_name=\"approach2_dataset_generation_simplified/dataset_HDF5_testtest\", batch_size=100, not_transform=False):\n",
    "    \"\"\"\n",
    "    Initialize dataset and dataloader for training.\n",
    "\n",
    "    Parameters\n",
    "    ----------\n",
    "    reduce_to_2D : bool\n",
    "        If true, reduce the dataset to 2D instead of 3D\n",
    "    overfit : bool\n",
    "        If true, only use a small subset of the dataset for training, achieved by cheating: changing the split ratio\n",
    "    normalize : bool\n",
    "        If true, normalize the dataset, usually the case; not true for testing input data magnitudes etc \n",
    "    dataset_name : str\n",
    "        Name of the dataset to use (has to be the same as in the folder)\n",
    "    batch_size : int\n",
    "        Size of the batch to use for training\n",
    "    \n",
    "    Returns\n",
    "    -------\n",
    "    datasets : dict\n",
    "        Dictionary of datasets, with keys \"train\", \"val\", \"test\"\n",
    "    dataloaders : dict\n",
    "        Dictionary of dataloaders, with keys \"train\", \"val\", \"test\"\n",
    "    \"\"\"\n",
    "    \n",
    "    datasets = {}\n",
    "    transforms_list = [ToTensorTransform(), PowerOfTwoTransform(oriented=\"left\")]\n",
    "    if normalize:\n",
    "        transforms_list.append(NormalizeTransform())\n",
    "    if reduce_to_2D:\n",
    "        transforms_list.append(ReduceTo2DTransform())\n",
    "\n",
    "    transforms = ComposeTransform(transforms_list)\n",
    "\n",
    "    if not_transform:\n",
    "        transforms = None\n",
    "\n",
    "    split = {'train': 0.6, 'val': 0.2, 'test': 0.2} if not overfit else {'train': 0.2, 'val': 0.2, 'test': 0.6}\n",
    "    \n",
    "    for mode in ['train', 'val', 'test']:\n",
    "        temp_dataset = DatasetSimulationData(\n",
    "            dataset_name=dataset_name, transform=transforms,\n",
    "            input_vars=[\"Liquid Y-Velocity [m_per_y]\", \"Liquid Z-Velocity [m_per_y]\",  #\"Liquid X-Velocity [m_per_y]\",\n",
    "            \"Liquid_Pressure [Pa]\", \"Material_ID\", \"Temperature [C]\"],\n",
    "            output_vars=[\"Temperature [C]\"], #. \"Liquid_Pressure [Pa]\"\n",
    "            mode=mode, split=split\n",
    "        )\n",
    "        datasets[mode] = temp_dataset\n",
    "\n",
    "\n",
    "    # Create a dataloader for each split.\n",
    "    dataloaders = {}\n",
    "    for mode in ['train', 'val', 'test']:\n",
    "        temp_dataloader = DataLoader(\n",
    "            dataset=datasets[mode],\n",
    "            batch_size=batch_size,\n",
    "            shuffle=True,\n",
    "            drop_last=False,\n",
    "        )\n",
    "        dataloaders[mode] = temp_dataloader\n",
    "\n",
    "    # # Assert if data is not 2D\n",
    "    # def assertion_error_2d(datasets):\n",
    "    #     for dataset in datasets[\"train\"]:\n",
    "    #         shape_data = len(dataset['x'].shape)\n",
    "    #         break\n",
    "    #     assert shape_data == 3, \"Data is not 2D\"\n",
    "    # \n",
    "    # assertion_error_2d(datasets)\n",
    "\n",
    "    return datasets, dataloaders\n",
    "\n",
    "def train_model(model, dataloaders, loss_fn, n_epochs, lr):\n",
    "    \"\"\"\n",
    "    Train the model for a certain number of epochs.\n",
    "        \n",
    "    Parameters\n",
    "    ----------\n",
    "    model : torch.nn.Module\n",
    "        Choose the model to train with varying structure etc\n",
    "    dataloaders : dict\n",
    "        Dictionary of dataloaders, with keys \"train\", \"val\", \"test\"\n",
    "    loss_fn : torch.nn.Module\n",
    "        Loss function to use, e.g. MSELoss() - depends on the model\n",
    "    n_epochs : int\n",
    "        Number of epochs to train for\n",
    "    lr : float\n",
    "        Learning rate to use\n",
    "    \"\"\"\n",
    "\n",
    "    # initialize Adam optimizer\n",
    "    optimizer = Adam(model.parameters(), lr=lr) \n",
    "    # initialize tensorboard\n",
    "    writer = SummaryWriter()\n",
    "    loss_hist = []\n",
    "    \n",
    "    model.apply(weights_init)\n",
    "    epochs = tqdm(range(n_epochs), desc = \"epochs\")\n",
    "    for epoch in epochs:\n",
    "        for batch_idx, data_point in enumerate(dataloaders[\"train\"]):\n",
    "            # datasets[\"train\"] contains 3 data points\n",
    "            x = data_point[\"x\"].float()\n",
    "            y = data_point[\"y\"].float()\n",
    "\n",
    "            model.zero_grad()\n",
    "            optimizer.zero_grad()\n",
    "\n",
    "            y_out = model(x) # dimensions: (batch-datapoint_id, channel, x, y)\n",
    "            mse_loss = loss_fn(y_out, y)\n",
    "            loss = mse_loss\n",
    "            \n",
    "            loss.backward()\n",
    "            optimizer.step()\n",
    "            epochs.set_postfix_str(f\"loss: {loss.item():.4f}\")\n",
    "\n",
    "            loss_hist.append(loss.item())\n",
    "            writer.add_scalar(\"loss\", loss.item(), epoch*len(dataloaders[\"train\"])+batch_idx)\n",
    "            writer.add_image(\"y_out_0\", y_out[0,0,:,:], dataformats=\"WH\", global_step=epoch*len(dataloaders[\"train\"])+batch_idx)\n",
    "            #writer.add_image(\"y_out_1\", y_out[0,1,:,:], dataformats=\"WH\")\n",
    "\n",
    "        writer.add_image(\"x_0\", x[0,0,:,:], dataformats=\"WH\")\n",
    "        # writer.add_image(\"x_1\", x[0,1,:,:], dataformats=\"WH\")\n",
    "        # writer.add_image(\"x_2\", x[0,2,:,:], dataformats=\"WH\")\n",
    "        # writer.add_image(\"x_3\", x[0,3,:,:], dataformats=\"WH\")\n",
    "        # writer.add_image(\"x_4\", x[0,4,:,:], dataformats=\"WH\")\n",
    "        # writer.add_image(\"y_0\", y[0,0,:,:], dataformats=\"WH\")\n",
    "        # #writer.add_image(\"y_1\", y[0,1,:,:], dataformats=\"WH\")\n",
    "\n",
    "    #writer.add_graph(model, x)\n",
    "    print('Finished Training')"
   ]
  },
  {
   "cell_type": "markdown",
   "metadata": {},
   "source": [
    "# Test BCs"
   ]
  },
  {
   "cell_type": "code",
   "execution_count": null,
   "metadata": {},
   "outputs": [],
   "source": []
  },
  {
   "cell_type": "code",
   "execution_count": 233,
   "metadata": {},
   "outputs": [
    {
     "name": "stdout",
     "output_type": "stream",
     "text": [
      "RUN_0_current_winner\n",
      "Resulting picture is at visualization/pics/plot_phys_props_RUN_42_VIEW_side_hp.jpg\n"
     ]
    },
    {
     "data": {
      "image/png": "[encoded data removed]",
      "text/plain": [
       "<Figure size 1440x1296 with 12 Axes>"
      ]
     },
     "metadata": {
      "needs_background": "dark"
     },
     "output_type": "display_data"
    }
   ],
   "source": [
    "\n"
   ]
  },
  {
   "cell_type": "code",
   "execution_count": 12,
   "metadata": {},
   "outputs": [
    {
     "name": "stdout",
     "output_type": "stream",
     "text": [
      "init done [total number of datapoints/runs: 2]\n",
      "no transforms applied:  'NoneType' object is not callable\n"
     ]
    },
    {
     "ename": "TypeError",
     "evalue": "'DataPoint' object is not subscriptable",
     "output_type": "error",
     "traceback": [
      "\u001b[0;31m---------------------------------------------------------------------------\u001b[0m",
      "\u001b[0;31mTypeError\u001b[0m                                 Traceback (most recent call last)",
      "\u001b[1;32m/home/pelzerja/Development/3D_FCN/test_visualise_fcnn_i2dl.ipynb Cell 15\u001b[0m in \u001b[0;36m<module>\u001b[0;34m\u001b[0m\n\u001b[1;32m      <a href='vscode-notebook-cell:/home/pelzerja/Development/3D_FCN/test_visualise_fcnn_i2dl.ipynb#X20sZmlsZQ%3D%3D?line=6'>7</a>\u001b[0m     i \u001b[39m=\u001b[39m \u001b[39m0\u001b[39m\n\u001b[1;32m      <a href='vscode-notebook-cell:/home/pelzerja/Development/3D_FCN/test_visualise_fcnn_i2dl.ipynb#X20sZmlsZQ%3D%3D?line=7'>8</a>\u001b[0m     \u001b[39mfor\u001b[39;00m run \u001b[39min\u001b[39;00m datasets_gt[mode]:\n\u001b[0;32m----> <a href='vscode-notebook-cell:/home/pelzerja/Development/3D_FCN/test_visualise_fcnn_i2dl.ipynb#X20sZmlsZQ%3D%3D?line=8'>9</a>\u001b[0m         \u001b[39mprint\u001b[39m(mode, i, \u001b[39m\"\u001b[39m\u001b[39m: \u001b[39m\u001b[39m\"\u001b[39m, run[\u001b[39m\"\u001b[39;49m\u001b[39mrun_id\u001b[39;49m\u001b[39m\"\u001b[39;49m])\n\u001b[1;32m     <a href='vscode-notebook-cell:/home/pelzerja/Development/3D_FCN/test_visualise_fcnn_i2dl.ipynb#X20sZmlsZQ%3D%3D?line=9'>10</a>\u001b[0m         i \u001b[39m+\u001b[39m\u001b[39m=\u001b[39m \u001b[39m1\u001b[39m\n\u001b[1;32m     <a href='vscode-notebook-cell:/home/pelzerja/Development/3D_FCN/test_visualise_fcnn_i2dl.ipynb#X20sZmlsZQ%3D%3D?line=10'>11</a>\u001b[0m counter \u001b[39m=\u001b[39m \u001b[39m0\u001b[39m\n",
      "\u001b[0;31mTypeError\u001b[0m: 'DataPoint' object is not subscriptable"
     ]
    }
   ],
   "source": [
    "counter = 1\n",
    "if counter != 0:\n",
    "    import learn_process as lp\n",
    "    datasets_gt, _ = lp.init_data(reduce_to_2D=False, overfit=False, just_plotting=True, dataset_name=\"groundtruth_hps_no_hps/groundtruth_hps_overfit_01\")\n",
    "\n",
    "    for mode in datasets_gt:\n",
    "        i = 0\n",
    "        for run in datasets_gt[mode]:\n",
    "            print(mode, i, \": \", run[\"run_id\"])\n",
    "            i += 1\n",
    "    counter = 0\n",
    "else:\n",
    "    tensor_dict = datasets_gt[\"train\"][0]\n",
    "    print(tensor_dict[\"run_id\"])\n",
    "\n",
    "    prop_in = datasets_gt[\"train\"].get_input_properties()\n",
    "    prop_out = datasets_gt[\"train\"].get_output_properties()\n",
    "    plot_data_inner(tensor_dict, prop_in, prop_out, view=\"side_hp\", oriented=\"left\")\n",
    "\n",
    "    # compare pressure gradient and temperature values by common sense\n",
    "    pressure = tensor_dict[\"x\"][2,:,:,:]\n",
    "    print(f\"pressure at top: {pressure[0,0,15]}\")\n",
    "    print(f\"pressure diff in z direction: {(pressure[0,0,14] - pressure[0,0,15]):.2f} [Pa]\")\n",
    "    print(f\"pressure diff in y direction: {(pressure[0,1,15] - pressure[0,0,15]):.2f} [Pa]\")\n",
    "    print(f\"pressure diff in x direction: {(pressure[1,0,15] - pressure[0,0,15]):.2f} [Pa]\")\n",
    "\n",
    "    temperature = tensor_dict[\"x\"][4,:,:,:]\n",
    "    print(f\"max and min temp at first timestep: {np.max(temperature):.2f}, {np.min(temperature):.2f} [C]\")\n",
    "    temperature_final = tensor_dict[\"y\"][0,:,:,:]\n",
    "    print(f\"max and min temp at last timestep: {np.max(temperature_final):.2f}, {np.min(temperature_final):.2f} [C]\")"
   ]
  },
  {
   "cell_type": "code",
   "execution_count": 10,
   "metadata": {},
   "outputs": [
    {
     "ename": "TypeError",
     "evalue": "__init__() got an unexpected keyword argument 'input_vars'",
     "output_type": "error",
     "traceback": [
      "\u001b[0;31m---------------------------------------------------------------------------\u001b[0m",
      "\u001b[0;31mTypeError\u001b[0m                                 Traceback (most recent call last)",
      "\u001b[1;32m/home/pelzerja/Development/3D_FCN/test_visualise_fcnn_i2dl.ipynb Cell 16\u001b[0m in \u001b[0;36m<module>\u001b[0;34m\u001b[0m\n\u001b[1;32m      <a href='vscode-notebook-cell:/home/pelzerja/Development/3D_FCN/test_visualise_fcnn_i2dl.ipynb#X21sZmlsZQ%3D%3D?line=0'>1</a>\u001b[0m \u001b[39m# test the reversing of the normalization, if correct, should result in the same pics as the cell above\u001b[39;00m\n\u001b[0;32m----> <a href='vscode-notebook-cell:/home/pelzerja/Development/3D_FCN/test_visualise_fcnn_i2dl.ipynb#X21sZmlsZQ%3D%3D?line=1'>2</a>\u001b[0m datasets, dataloaders \u001b[39m=\u001b[39m init_data(reduce_to_2D\u001b[39m=\u001b[39;49m\u001b[39mFalse\u001b[39;49;00m, overfit\u001b[39m=\u001b[39;49m\u001b[39mTrue\u001b[39;49;00m, dataset_name\u001b[39m=\u001b[39;49m\u001b[39m\"\u001b[39;49m\u001b[39mgroundtruth_hps_no_hps/groundtruth_no_hps\u001b[39;49m\u001b[39m\"\u001b[39;49m)\n\u001b[1;32m      <a href='vscode-notebook-cell:/home/pelzerja/Development/3D_FCN/test_visualise_fcnn_i2dl.ipynb#X21sZmlsZQ%3D%3D?line=2'>3</a>\u001b[0m tensor_dict \u001b[39m=\u001b[39m datasets[\u001b[39m\"\u001b[39m\u001b[39mtrain\u001b[39m\u001b[39m\"\u001b[39m][\u001b[39m0\u001b[39m]\n\u001b[1;32m      <a href='vscode-notebook-cell:/home/pelzerja/Development/3D_FCN/test_visualise_fcnn_i2dl.ipynb#X21sZmlsZQ%3D%3D?line=3'>4</a>\u001b[0m \u001b[39m# tensor_reversed_norm = datasets[\"train\"].reverse_transform(0, tensor_dict[\"x_mean\"], tensor_dict[\"x_std\"], tensor_dict[\"y_mean\"], tensor_dict[\"y_std\"])\u001b[39;00m\n",
      "\u001b[1;32m/home/pelzerja/Development/3D_FCN/test_visualise_fcnn_i2dl.ipynb Cell 16\u001b[0m in \u001b[0;36minit_data\u001b[0;34m(reduce_to_2D, overfit, normalize, dataset_name, batch_size, not_transform)\u001b[0m\n\u001b[1;32m     <a href='vscode-notebook-cell:/home/pelzerja/Development/3D_FCN/test_visualise_fcnn_i2dl.ipynb#X21sZmlsZQ%3D%3D?line=38'>39</a>\u001b[0m split \u001b[39m=\u001b[39m {\u001b[39m'\u001b[39m\u001b[39mtrain\u001b[39m\u001b[39m'\u001b[39m: \u001b[39m0.6\u001b[39m, \u001b[39m'\u001b[39m\u001b[39mval\u001b[39m\u001b[39m'\u001b[39m: \u001b[39m0.2\u001b[39m, \u001b[39m'\u001b[39m\u001b[39mtest\u001b[39m\u001b[39m'\u001b[39m: \u001b[39m0.2\u001b[39m} \u001b[39mif\u001b[39;00m \u001b[39mnot\u001b[39;00m overfit \u001b[39melse\u001b[39;00m {\u001b[39m'\u001b[39m\u001b[39mtrain\u001b[39m\u001b[39m'\u001b[39m: \u001b[39m0.2\u001b[39m, \u001b[39m'\u001b[39m\u001b[39mval\u001b[39m\u001b[39m'\u001b[39m: \u001b[39m0.2\u001b[39m, \u001b[39m'\u001b[39m\u001b[39mtest\u001b[39m\u001b[39m'\u001b[39m: \u001b[39m0.6\u001b[39m}\n\u001b[1;32m     <a href='vscode-notebook-cell:/home/pelzerja/Development/3D_FCN/test_visualise_fcnn_i2dl.ipynb#X21sZmlsZQ%3D%3D?line=40'>41</a>\u001b[0m \u001b[39mfor\u001b[39;00m mode \u001b[39min\u001b[39;00m [\u001b[39m'\u001b[39m\u001b[39mtrain\u001b[39m\u001b[39m'\u001b[39m, \u001b[39m'\u001b[39m\u001b[39mval\u001b[39m\u001b[39m'\u001b[39m, \u001b[39m'\u001b[39m\u001b[39mtest\u001b[39m\u001b[39m'\u001b[39m]:\n\u001b[0;32m---> <a href='vscode-notebook-cell:/home/pelzerja/Development/3D_FCN/test_visualise_fcnn_i2dl.ipynb#X21sZmlsZQ%3D%3D?line=41'>42</a>\u001b[0m     temp_dataset \u001b[39m=\u001b[39m DatasetSimulationData(\n\u001b[1;32m     <a href='vscode-notebook-cell:/home/pelzerja/Development/3D_FCN/test_visualise_fcnn_i2dl.ipynb#X21sZmlsZQ%3D%3D?line=42'>43</a>\u001b[0m         dataset_name\u001b[39m=\u001b[39;49mdataset_name, transform\u001b[39m=\u001b[39;49mtransforms,\n\u001b[1;32m     <a href='vscode-notebook-cell:/home/pelzerja/Development/3D_FCN/test_visualise_fcnn_i2dl.ipynb#X21sZmlsZQ%3D%3D?line=43'>44</a>\u001b[0m         input_vars\u001b[39m=\u001b[39;49m[\u001b[39m\"\u001b[39;49m\u001b[39mLiquid Y-Velocity [m_per_y]\u001b[39;49m\u001b[39m\"\u001b[39;49m, \u001b[39m\"\u001b[39;49m\u001b[39mLiquid Z-Velocity [m_per_y]\u001b[39;49m\u001b[39m\"\u001b[39;49m,  \u001b[39m#\"Liquid X-Velocity [m_per_y]\",\u001b[39;49;00m\n\u001b[1;32m     <a href='vscode-notebook-cell:/home/pelzerja/Development/3D_FCN/test_visualise_fcnn_i2dl.ipynb#X21sZmlsZQ%3D%3D?line=44'>45</a>\u001b[0m         \u001b[39m\"\u001b[39;49m\u001b[39mLiquid_Pressure [Pa]\u001b[39;49m\u001b[39m\"\u001b[39;49m, \u001b[39m\"\u001b[39;49m\u001b[39mMaterial_ID\u001b[39;49m\u001b[39m\"\u001b[39;49m, \u001b[39m\"\u001b[39;49m\u001b[39mTemperature [C]\u001b[39;49m\u001b[39m\"\u001b[39;49m],\n\u001b[1;32m     <a href='vscode-notebook-cell:/home/pelzerja/Development/3D_FCN/test_visualise_fcnn_i2dl.ipynb#X21sZmlsZQ%3D%3D?line=45'>46</a>\u001b[0m         output_vars\u001b[39m=\u001b[39;49m[\u001b[39m\"\u001b[39;49m\u001b[39mTemperature [C]\u001b[39;49m\u001b[39m\"\u001b[39;49m], \u001b[39m#. \"Liquid_Pressure [Pa]\"\u001b[39;49;00m\n\u001b[1;32m     <a href='vscode-notebook-cell:/home/pelzerja/Development/3D_FCN/test_visualise_fcnn_i2dl.ipynb#X21sZmlsZQ%3D%3D?line=46'>47</a>\u001b[0m         mode\u001b[39m=\u001b[39;49mmode, split\u001b[39m=\u001b[39;49msplit\n\u001b[1;32m     <a href='vscode-notebook-cell:/home/pelzerja/Development/3D_FCN/test_visualise_fcnn_i2dl.ipynb#X21sZmlsZQ%3D%3D?line=47'>48</a>\u001b[0m     )\n\u001b[1;32m     <a href='vscode-notebook-cell:/home/pelzerja/Development/3D_FCN/test_visualise_fcnn_i2dl.ipynb#X21sZmlsZQ%3D%3D?line=48'>49</a>\u001b[0m     datasets[mode] \u001b[39m=\u001b[39m temp_dataset\n\u001b[1;32m     <a href='vscode-notebook-cell:/home/pelzerja/Development/3D_FCN/test_visualise_fcnn_i2dl.ipynb#X21sZmlsZQ%3D%3D?line=51'>52</a>\u001b[0m \u001b[39m# Create a dataloader for each split.\u001b[39;00m\n",
      "File \u001b[0;32m~/Development/3D_FCN/data/dataset.py:65\u001b[0m, in \u001b[0;36mDatasetSimulationData.__init__\u001b[0;34m(self, dataset_name, dataset_path, transform, mode, split, input_vars_names, output_vars_names, **kwargs)\u001b[0m\n\u001b[1;32m     56\u001b[0m \u001b[39mdef\u001b[39;00m \u001b[39m__init__\u001b[39m(\u001b[39mself\u001b[39m, dataset_name:\u001b[39mstr\u001b[39m\u001b[39m=\u001b[39m\u001b[39m\"\u001b[39m\u001b[39mapproach2_dataset_generation_simplified/dataset_HDF5_testtest\u001b[39m\u001b[39m\"\u001b[39m,\n\u001b[1;32m     57\u001b[0m              dataset_path:\u001b[39mstr\u001b[39m\u001b[39m=\u001b[39m\u001b[39m\"\u001b[39m\u001b[39m/home/pelzerja/Development/simulation_groundtruth_pflotran/Phd_simulation_groundtruth\u001b[39m\u001b[39m\"\u001b[39m,\n\u001b[1;32m     58\u001b[0m              transform:ComposeTransform\u001b[39m=\u001b[39m\u001b[39mNone\u001b[39;00m,\n\u001b[0;32m   (...)\u001b[0m\n\u001b[1;32m     63\u001b[0m              output_vars_names:List[\u001b[39mstr\u001b[39m]\u001b[39m=\u001b[39m[\u001b[39m\"\u001b[39m\u001b[39mLiquid_Pressure [Pa]\u001b[39m\u001b[39m\"\u001b[39m, \u001b[39m\"\u001b[39m\u001b[39mTemperature [C]\u001b[39m\u001b[39m\"\u001b[39m],\n\u001b[1;32m     64\u001b[0m              \u001b[39m*\u001b[39m\u001b[39m*\u001b[39mkwargs)\u001b[39m-\u001b[39m\u001b[39m>\u001b[39m Dataset:\n\u001b[0;32m---> 65\u001b[0m     \u001b[39msuper\u001b[39;49m()\u001b[39m.\u001b[39;49m\u001b[39m__init__\u001b[39;49m(dataset_name\u001b[39m=\u001b[39;49mdataset_name, dataset_path\u001b[39m=\u001b[39;49mdataset_path, \u001b[39m*\u001b[39;49m\u001b[39m*\u001b[39;49mkwargs)\n\u001b[1;32m     66\u001b[0m     \u001b[39massert\u001b[39;00m mode \u001b[39min\u001b[39;00m [\u001b[39m\"\u001b[39m\u001b[39mtrain\u001b[39m\u001b[39m\"\u001b[39m, \u001b[39m\"\u001b[39m\u001b[39mval\u001b[39m\u001b[39m\"\u001b[39m, \u001b[39m\"\u001b[39m\u001b[39mtest\u001b[39m\u001b[39m\"\u001b[39m], \u001b[39m\"\u001b[39m\u001b[39mwrong mode for dataset given\u001b[39m\u001b[39m\"\u001b[39m\n\u001b[1;32m     68\u001b[0m     \u001b[39mself\u001b[39m\u001b[39m.\u001b[39mmode \u001b[39m=\u001b[39m mode\n",
      "\u001b[0;31mTypeError\u001b[0m: __init__() got an unexpected keyword argument 'input_vars'"
     ]
    }
   ],
   "source": [
    "# test the reversing of the normalization, if correct, should result in the same pics as the cell above\n",
    "datasets, dataloaders = init_data(reduce_to_2D=False, overfit=True, dataset_name=\"groundtruth_hps_no_hps/groundtruth_no_hps\")\n",
    "tensor_dict = datasets[\"train\"][0]\n",
    "# tensor_reversed_norm = datasets[\"train\"].reverse_transform(0, tensor_dict[\"x_mean\"], tensor_dict[\"x_std\"], tensor_dict[\"y_mean\"], tensor_dict[\"y_std\"])\n",
    "\n",
    "prop_in = datasets[\"train\"].get_input_properties()\n",
    "prop_out = datasets[\"train\"].get_output_properties()\n",
    "\n",
    "print(datasets[\"train\"][0][\"x\"].shape)\n",
    "\n",
    "# plot_data_inner(tensor_reversed_norm, prop_in, prop_out, view=\"top\", oriented=\"left\")\n",
    "plot_data_inner(datasets[\"train\"][0], prop_in, prop_out, view=\"top\", oriented=\"left\")\n"
   ]
  },
  {
   "cell_type": "code",
   "execution_count": null,
   "metadata": {},
   "outputs": [],
   "source": []
  },
  {
   "cell_type": "code",
   "execution_count": null,
   "metadata": {},
   "outputs": [],
   "source": []
  }
 ],
 "metadata": {
  "interpreter": {
   "hash": "916dbcbb3f70747c44a77c7bcd40155683ae19c65e1c03b4aa3499c5328201f1"
  },
  "kernelspec": {
   "display_name": "Python 3.8.10 64-bit",
   "language": "python",
   "name": "python3"
  },
  "language_info": {
   "codemirror_mode": {
    "name": "ipython",
    "version": 3
   },
   "file_extension": ".py",
   "mimetype": "text/x-python",
   "name": "python",
   "nbconvert_exporter": "python",
   "pygments_lexer": "ipython3",
   "version": "3.8.10"
  },
  "orig_nbformat": 4
 },
 "nbformat": 4,
 "nbformat_minor": 2
}
