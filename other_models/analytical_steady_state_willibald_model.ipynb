{
 "cells": [
  {
   "attachments": {},
   "cell_type": "markdown",
   "metadata": {},
   "source": [
    "# Implementation of LAHM model and application to my dataset\n",
    "\n",
    "only applicable to: ?\n",
    "- velocities over 1m/day; good for v >= 10m/day\n",
    "- energy extraction under 45.000 kWh/year\n",
    "\n",
    "steady state model (Willibald, 1980):\n",
    "- calculates temperature field\n",
    "- with continous point source\n",
    "- convective and dispersive heat transport\n",
    "- Annahmen:\n",
    "    - konstante mit Grundwasser erfüllte Mächtigkeit\n",
    "    - einheitliches Grundwassergefälle\n",
    "    - konstante Permeabilität\n",
    "    - konstanter transportwirksamer Hohlraumanteil\n",
    "    - unbeeinflusste, konstante Hintergrundtemperatur\n",
    "- -> parallele Grundsträmung mit konstanter Filtergeschwindigkeit\n",
    "- Vernachlässigung:\n",
    "    - diseser Strömung durch Injection/extraction well (bzgl. Höhe Grundwasserstand, Änderung Strömungsrichtung, -geschwindigkeit)\n",
    "    - Austausch mit Atmosphäre\n",
    "    - konduktive Prozesse\n",
    "\n",
    "\n",
    "- equations:\n",
    "$$ v_f = k_f * I$$\n",
    "$$ v_a = v_f / n $$\n",
    "$$ x_0 = \\frac{1}{4 \\cdot \\pi \\cdot \\alpha_T}(\\frac{Q \\cdot \\Delta T_E}{m \\cdot v_f \\cdot \\Delta T})^2$$\n",
    "$$ y = +- \\sqrt{4 \\cdot \\alpha_T \\cdot x \\cdot ln(\\frac{Q \\cdot \\Delta T_E}{m \\cdot v_f \\cdot \\Delta T \\sqrt{4 \\cdot \\pi \\cdot \\alpha_T \\cdot x}})}$$\n",
    "\n",
    "- $v_f$ : Filtergeschwindigkeit [m/s]\n",
    "- $k_f$ : Permeabilität des Grundwasserleiters [m/s] = k_perm\n",
    "- $I$ : Gradient der Piezometerhöhe, Grundwassergefälle[-] = grad_p?\n",
    "- $v_a$ : mittlere Abstandsgeschwindigkeit [m/s] (matches with LAHM)\n",
    "- $n$ : durchflusswirksamer Hohlraumanteil [–] (=effektive Porosität) (matches with LAHM-$n_e$- effektive Porosität)\n",
    "- $x_0$ : Abstand der gesuchten Isotherme vom Infiltrationsbrunnen auf der Stromlinie im Abstrom des Rückgabebrunnens [m] (nicht zu verwechseln mit dem Staupunkt oder der unterstromigen Reichweite der Anströmung eines Brunnens, die oft auch mit $x_0$ bezeichnet werden)\n",
    "- $x$ : Abstand zum Rückgabebrunnen auf der Stromlinie im Abstrom des Rückgabebrunnens [m]\n",
    "- $y$ : seitliche Ausdehnung der Isotherme, berechnet als seitlicher Abstand zur Stromlinie für Punkte $x < x_0$; bei $x_0$ ist $y = 0$; [m]\n",
    "- $\\alpha_T$ : Querdispersivität [m] (matches with LAHM)\n",
    "- $Q$ : Infiltrationsrate [m³ s-1] (matches with LAHM)\n",
    "- $m$ : Grundwassererfüllte Mächtigkeit [m] (matches with LAHM-$M$)\n",
    "- $\\Delta T_E$ : Unterschied zwischen Einleittemperatur und unbeeinflusster Grundwassertemperatur [K] (matches with LAHM-$T_{inj}$)\n",
    "- $\\Delta T$ : Gesuchte Isotherme als Differenz zur Grundwassertemperatur [K] (matches with LAHM) (vorgebbar über welche Isolinien interessieren mich)"
   ]
  }
 ],
 "metadata": {
  "kernelspec": {
   "display_name": "Python 3",
   "language": "python",
   "name": "python3"
  },
  "language_info": {
   "codemirror_mode": {
    "name": "ipython",
    "version": 3
   },
   "file_extension": ".py",
   "mimetype": "text/x-python",
   "name": "python",
   "nbconvert_exporter": "python",
   "pygments_lexer": "ipython3",
   "version": "3.10.6"
  },
  "orig_nbformat": 4,
  "vscode": {
   "interpreter": {
    "hash": "31f2aee4e71d21fbe5cf8b01ff0e069b9275f58929596ceb00d14d90e3e16cd6"
   }
  }
 },
 "nbformat": 4,
 "nbformat_minor": 2
}
