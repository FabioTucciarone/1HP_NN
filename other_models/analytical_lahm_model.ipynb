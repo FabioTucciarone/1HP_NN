{
 "cells": [
  {
   "attachments": {},
   "cell_type": "markdown",
   "metadata": {},
   "source": [
    "# Implementation of LAHM model and application to my dataset\n",
    "\n",
    "only applicable to:\n",
    "- velocities over 1m/day; good for v >= 10m/day\n",
    "- energy extraction under 45.000 kWh/year\n",
    "\n",
    "LAHM model (Kinzelbach, 1987):\n",
    "- calculates temperature field\n",
    "- with continous point source\n",
    "- convective and dispersive heat transport\n",
    "- in a homogeneous confined aquifer (\"homogener gespannter Porengrundwasserleiter\")\n",
    "- under instationary conditions\n",
    "\n",
    "- equations:\n",
    "$$ \\Delta T (x,y,t) = \\frac{Q \\cdot \\Delta T_{inj}}{4 \\cdot n_e \\cdot M \\cdot v_a \\cdot \\sqrt{\\pi \\cdot \\alpha_T}}\n",
    "\\cdot \\exp{(\\frac{x - r}{2 \\cdot \\alpha_L})} \\cdot \\frac{1}{\\sqrt{r}}\n",
    "\\cdot erfc(\\frac{r - v_a \\cdot t/R}{2 \\cdot \\sqrt{v_a \\cdot \\alpha_L \\cdot t/R}}) \n",
    "$$\n",
    "with:\n",
    "$$ r = \\sqrt{x^2 + y^2 \\cdot \\frac{\\alpha_L}{\\alpha_T}} $$\n",
    "\n",
    "- $\\Delta T$ : Gesuchte Isotherme als Differenz zur unbeeinflussten Grundwassertemperatur [K]\n",
    "- $Q$ : Injektionsrate [m 3 /s]\n",
    "- $T_{inj}$ : Differenz zwischen der Injektionstemperatur und der unbeeinflussten Grundwassertemperatur [K]\n",
    "- $n_e$ : effektive Porosität [–]\n",
    "- $M$ : genutzte, grundwassererfüllte Mächtigkeit [m]\n",
    "- $v_a$ : Abstandsgeschwindigkeit [m/s]\n",
    "- $α_{L,T}$ : Längs- und Querdispersivität [m]\n",
    "- $x$, $y$: Längs- und Querkoordinaten [m]\n",
    "- $t$: Zeit [s]\n",
    "- $R$: Retardation [–]\n",
    "- $r$: radialer Abstand vom Injektionsbrunnen [m]"
   ]
  },
  {
   "cell_type": "code",
   "execution_count": 6,
   "metadata": {},
   "outputs": [],
   "source": [
    "# TODO temperature added too high\n",
    "\n",
    "# read input from file\n",
    "# test on dataset\n",
    "# adaptation to 3D\n",
    "# read streamlines\n",
    "# coordination transformation\n"
   ]
  }
 ],
 "metadata": {
  "kernelspec": {
   "display_name": "Python 3",
   "language": "python",
   "name": "python3"
  },
  "language_info": {
   "codemirror_mode": {
    "name": "ipython",
    "version": 3
   },
   "file_extension": ".py",
   "mimetype": "text/x-python",
   "name": "python",
   "nbconvert_exporter": "python",
   "pygments_lexer": "ipython3",
   "version": "3.10.6"
  },
  "orig_nbformat": 4,
  "vscode": {
   "interpreter": {
    "hash": "916dbcbb3f70747c44a77c7bcd40155683ae19c65e1c03b4aa3499c5328201f1"
   }
  }
 },
 "nbformat": 4,
 "nbformat_minor": 2
}
