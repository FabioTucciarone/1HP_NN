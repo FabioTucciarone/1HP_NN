{
 "cells": [
  {
   "cell_type": "code",
   "execution_count": 44,
   "metadata": {},
   "outputs": [
    {
     "name": "stdout",
     "output_type": "stream",
     "text": [
      "The autoreload extension is already loaded. To reload it, use:\n",
      "  %reload_ext autoreload\n"
     ]
    }
   ],
   "source": [
    "from learn_process import init_data, train_model\n",
    "from networks.unet_leiterrl import weights_init, TurbNetG, UNet\n",
    "from networks.dummy_network import DummyNet\n",
    "from tqdm.auto import tqdm\n",
    "from torch.utils.tensorboard import SummaryWriter\n",
    "from torch.nn import MSELoss\n",
    "import torch.nn.functional as F\n",
    "\n",
    "# autoreload\n",
    "%load_ext autoreload\n",
    "%autoreload 2"
   ]
  },
  {
   "cell_type": "markdown",
   "metadata": {},
   "source": [
    "# Initialize Data"
   ]
  },
  {
   "cell_type": "code",
   "execution_count": 48,
   "metadata": {},
   "outputs": [
    {
     "name": "stdout",
     "output_type": "stream",
     "text": [
      "init done [total number of datapoints/runs: 10]\n"
     ]
    }
   ],
   "source": [
    " # init data\n",
    "datasets_2D, dataloaders_2D = init_data(dataset_name=\"groundtruth_hps_no_hps/groundtruth_hps_overfit_10\", reduce_to_2D=True, \n",
    "                                inputs=\"xyzt\", labels=\"t\", batch_size=3)"
   ]
  },
  {
   "cell_type": "markdown",
   "metadata": {},
   "source": [
    "# Settings Training"
   ]
  },
  {
   "cell_type": "code",
   "execution_count": 49,
   "metadata": {},
   "outputs": [],
   "source": [
    "# parameters of model and training\n",
    "loss_fn = MSELoss()\n",
    "n_epochs = 1000 #60000\n",
    "lr=0.0001 #0.0004\n",
    "\n",
    "#model = TurbNetG(channelExponent=4, in_channels=4, out_channels=2)\n",
    "unet_model = UNet(in_channels=5, out_channels=1).float()\n",
    "# TODO too many in channels for unet?\n",
    "fc_model = DummyNet().float()\n",
    "# model.to(device)\n",
    "\n",
    "name_folder=\"try_unet_overfit10_batchsize3\""
   ]
  },
  {
   "cell_type": "markdown",
   "metadata": {},
   "source": [
    "# Training"
   ]
  },
  {
   "cell_type": "code",
   "execution_count": 50,
   "metadata": {},
   "outputs": [
    {
     "name": "stderr",
     "output_type": "stream",
     "text": [
      "epochs: 100%|██████████| 1000/1000 [10:09<00:00,  1.64it/s, loss: 0.4031]"
     ]
    },
    {
     "name": "stdout",
     "output_type": "stream",
     "text": [
      "Finished Training\n"
     ]
    },
    {
     "name": "stderr",
     "output_type": "stream",
     "text": [
      "\n"
     ]
    }
   ],
   "source": [
    "# train model\n",
    "_, writer = train_model(unet_model, dataloaders_2D, loss_fn, n_epochs, lr, name_folder=name_folder)\n"
   ]
  },
  {
   "cell_type": "code",
   "execution_count": 51,
   "metadata": {},
   "outputs": [],
   "source": [
    "writer = SummaryWriter(f\"runs/{name_folder}\")\n",
    "for batch_idx, data_test in enumerate(dataloaders_2D[\"test\"]):\n",
    "    x = data_test.inputs.float()\n",
    "    y = data_test.labels.float()\n",
    "    y_out = unet_model(x)\n",
    "    writer.add_image(\"x_unseen\", x[0, 0, :, :], dataformats=\"WH\")\n",
    "    writer.add_image(\"y_unseen_out\", y_out[0, 0, :, :], dataformats=\"WH\")\n",
    "    writer.add_image(\"y_unseen_true\", y[0, 0, :, :], dataformats=\"WH\")\n",
    "            \n",
    "# TODO vary lr, vary input_Vars\n",
    "# TODO vary batch size\n",
    "# TODO safe status (git)"
   ]
  },
  {
   "cell_type": "markdown",
   "metadata": {},
   "source": [
    "# Visualization"
   ]
  },
  {
   "cell_type": "code",
   "execution_count": null,
   "metadata": {},
   "outputs": [],
   "source": []
  }
 ],
 "metadata": {
  "kernelspec": {
   "display_name": "Python 3.8.10 64-bit",
   "language": "python",
   "name": "python3"
  },
  "language_info": {
   "codemirror_mode": {
    "name": "ipython",
    "version": 3
   },
   "file_extension": ".py",
   "mimetype": "text/x-python",
   "name": "python",
   "nbconvert_exporter": "python",
   "pygments_lexer": "ipython3",
   "version": "3.8.10"
  },
  "orig_nbformat": 4,
  "vscode": {
   "interpreter": {
    "hash": "916dbcbb3f70747c44a77c7bcd40155683ae19c65e1c03b4aa3499c5328201f1"
   }
  }
 },
 "nbformat": 4,
 "nbformat_minor": 2
}
