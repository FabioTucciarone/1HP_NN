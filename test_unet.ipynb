{
 "cells": [
  {
   "cell_type": "code",
   "execution_count": null,
   "metadata": {},
   "outputs": [],
   "source": [
    "from learn_process import init_data, train_model\n",
    "from visualization.visualize_data import plot_test_sample\n",
    "from networks.unet_leiterrl import weights_init, TurbNetG, UNet\n",
    "from networks.dummy_network import DummyNet\n",
    "from tqdm.auto import tqdm\n",
    "from torch.utils.tensorboard import SummaryWriter\n",
    "from torch.nn import MSELoss\n",
    "import torch.nn.functional as F\n",
    "\n",
    "# autoreload\n",
    "%load_ext autoreload\n",
    "%autoreload 2"
   ]
  },
  {
   "cell_type": "markdown",
   "metadata": {},
   "source": [
    "# Initialize Data"
   ]
  },
  {
   "cell_type": "code",
   "execution_count": null,
   "metadata": {},
   "outputs": [],
   "source": [
    " # init data\n",
    "datasets_2D, dataloaders_2D = init_data(dataset_name=\"groundtruth_hps_no_hps/groundtruth_hps_overfit_10\", \n",
    "        reduce_to_2D=True, reduce_to_2D_xy=True,\n",
    "        inputs=\"xyzt\", labels=\"t\") #, batch_size=3)"
   ]
  },
  {
   "cell_type": "markdown",
   "metadata": {},
   "source": [
    "# Settings Training"
   ]
  },
  {
   "cell_type": "code",
   "execution_count": null,
   "metadata": {},
   "outputs": [],
   "source": [
    "# parameters of model and training\n",
    "loss_fn = MSELoss()\n",
    "n_epochs = 1000 #60000\n",
    "lr=0.0004 #0.0004\n",
    "\n",
    "#model = TurbNetG(channelExponent=4, in_channels=4, out_channels=2)\n",
    "unet_model = UNet(in_channels=5, out_channels=1).float()\n",
    "# TODO too many in channels for unet?\n",
    "fc_model = DummyNet().float()\n",
    "# model.to(device)\n",
    "\n",
    "name_folder=\"try_unet_overfit10_try_reduce2d_xy\""
   ]
  },
  {
   "cell_type": "markdown",
   "metadata": {},
   "source": [
    "# Training"
   ]
  },
  {
   "cell_type": "code",
   "execution_count": null,
   "metadata": {},
   "outputs": [],
   "source": [
    "# train model\n",
    "_, writer = train_model(unet_model, dataloaders_2D, loss_fn, n_epochs, lr, name_folder=name_folder)\n"
   ]
  },
  {
   "cell_type": "markdown",
   "metadata": {},
   "source": [
    "# Visualization"
   ]
  },
  {
   "cell_type": "code",
   "execution_count": null,
   "metadata": {},
   "outputs": [],
   "source": [
    "writer, error, error_mean = plot_test_sample(unet_model, dataloaders_2D, name_folder, plot_name=\"plot_learned_test_sample\")\n",
    "print(\"Mean: \", error_mean, \"Max: \", error.max().item(), \"Min: \", error.min().item())\n",
    "writer.close()"
   ]
  }
 ],
 "metadata": {
  "kernelspec": {
   "display_name": "Python 3.8.10 64-bit",
   "language": "python",
   "name": "python3"
  },
  "language_info": {
   "codemirror_mode": {
    "name": "ipython",
    "version": 3
   },
   "file_extension": ".py",
   "mimetype": "text/x-python",
   "name": "python",
   "nbconvert_exporter": "python",
   "pygments_lexer": "ipython3",
   "version": "3.8.10"
  },
  "orig_nbformat": 4,
  "vscode": {
   "interpreter": {
    "hash": "916dbcbb3f70747c44a77c7bcd40155683ae19c65e1c03b4aa3499c5328201f1"
   }
  }
 },
 "nbformat": 4,
 "nbformat_minor": 2
}
