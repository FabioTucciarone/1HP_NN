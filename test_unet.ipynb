{
 "cells": [
  {
   "cell_type": "code",
   "execution_count": null,
   "metadata": {},
   "outputs": [],
   "source": [
    "from dataset_loading import init_data\n",
    "from visualization.visualize_data import plot_sample\n",
    "from networks.unet_leiterrl import weights_init, TurbNetG, UNet\n",
    "from networks.dummy_network import DummyNet\n",
    "from tqdm.auto import tqdm\n",
    "from torch.utils.tensorboard import SummaryWriter\n",
    "from torch.nn import MSELoss\n",
    "import torch.nn.functional as F\n",
    "from solver import Solver\n",
    "\n",
    "# autoreload\n",
    "%load_ext autoreload\n",
    "%autoreload 2"
   ]
  },
  {
   "cell_type": "markdown",
   "metadata": {},
   "source": [
    "# Training"
   ]
  },
  {
   "cell_type": "code",
   "execution_count": null,
   "metadata": {},
   "outputs": [],
   "source": [
    "inputs=\"pk\"\n",
    "# parameters of model and training\n",
    "loss_fn = MSELoss()\n",
    "n_epochs = 1 #00 #60000\n",
    "\n",
    "unet_model = UNet(in_channels=len(inputs)+1, out_channels=1).float()\n",
    "# fc_model = DummyNet().float()\n",
    "# model.to(device)\n",
    "\n",
    "name_folder=\"try_unstructured_grid\" \n",
    "\n",
    "learning_rate=5e-4 #0.0005 #0.0004"
   ]
  },
  {
   "cell_type": "code",
   "execution_count": null,
   "metadata": {},
   "outputs": [],
   "source": [
    "import main\n",
    "main.run_experiment(n_epochs=1000, model_choice=\"fc\");"
   ]
  },
  {
   "cell_type": "markdown",
   "metadata": {},
   "source": [
    "# Helper functions"
   ]
  },
  {
   "cell_type": "code",
   "execution_count": null,
   "metadata": {},
   "outputs": [],
   "source": [
    "# import numpy as np\n",
    "\n",
    "# datasets, dataloaders = init_data(dataset_name=\"groundtruth_hps_no_hps/3datapoints_1D\", \n",
    "#             reduce_to_2D=False, reduce_to_2D_xy=False,\n",
    "#             inputs=\"xyzt\", labels=\"t\") #, batch_size=3)\n",
    "# ids = datasets[\"train\"][0].inputs[\"Material_ID\"].value\n",
    "# # print(ids)\n",
    "# print(ids.min(), ids.max())\n",
    "# max_id = ids.max()\n",
    "# loc_hp = np.where(ids == max_id)\n",
    "# number_cells = [20, 150, 16]\n",
    "# int(9+1 + 23*number_cells[0] + 9*number_cells[0]*number_cells[1])"
   ]
  }
 ],
 "metadata": {
  "kernelspec": {
   "display_name": "Python 3.8.10 64-bit",
   "language": "python",
   "name": "python3"
  },
  "language_info": {
   "codemirror_mode": {
    "name": "ipython",
    "version": 3
   },
   "file_extension": ".py",
   "mimetype": "text/x-python",
   "name": "python",
   "nbconvert_exporter": "python",
   "pygments_lexer": "ipython3",
   "version": "3.8.10"
  },
  "orig_nbformat": 4,
  "vscode": {
   "interpreter": {
    "hash": "916dbcbb3f70747c44a77c7bcd40155683ae19c65e1c03b4aa3499c5328201f1"
   }
  }
 },
 "nbformat": 4,
 "nbformat_minor": 2
}
